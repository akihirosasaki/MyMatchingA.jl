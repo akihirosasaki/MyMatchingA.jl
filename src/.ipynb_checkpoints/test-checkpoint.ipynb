{
 "cells": [
  {
   "cell_type": "code",
   "execution_count": 1,
   "metadata": {
    "collapsed": false
   },
   "outputs": [
    {
     "name": "stderr",
     "output_type": "stream",
     "text": [
      "\u001b[1m\u001b[34mINFO: Checking out MyMatchingA master...\n",
      "\u001b[0m\u001b[1m\u001b[34mINFO: Pulling MyMatchingA latest master...\n",
      "\u001b[0m\u001b[1m\u001b[34mINFO: No packages to install, update or remove\n",
      "\u001b[0m"
     ]
    }
   ],
   "source": [
    "Pkg.checkout(\"MyMatchingA\")"
   ]
  },
  {
   "cell_type": "code",
   "execution_count": 2,
   "metadata": {
    "collapsed": false
   },
   "outputs": [
    {
     "name": "stderr",
     "output_type": "stream",
     "text": [
      "\u001b[1m\u001b[34mINFO: Testing MyMatchingA\n",
      "\u001b[0m"
     ]
    },
    {
     "name": "stdout",
     "output_type": "stream",
     "text": [
      "\u001b[1m\u001b[37mone-to-one: Vector of Vectors: \u001b[0m\u001b[1m\u001b[31mError During Test\n",
      "\u001b[0m  Got an exception of type MethodError outside of a @test\n",
      "  MethodError: no method matching deferred_acceptanceA(::Array{Array{Int64,1},1}, ::Array{Array{Int64,1},1})\n",
      "   in macro expansion; at /Users/sasakiakihiro/.julia/v0.5/MyMatchingA/test/runtests.jl:207 [inlined]\n",
      "   in macro expansion; at ./test.jl:674 [inlined]\n",
      "   in macro expansion; at /Users/sasakiakihiro/.julia/v0.5/MyMatchingA/test/runtests.jl:201 [inlined]\n",
      "   in macro expansion; at ./test.jl:674 [inlined]\n",
      "   in anonymous at ./<missing>:?\n",
      "   in include_from_node1(::String) at ./loading.jl:488\n",
      "   in include_from_node1(::String) at /Applications/Julia-0.5.app/Contents/Resources/julia/lib/julia/sys.dylib:?\n",
      "   in process_options(::Base.JLOptions) at ./client.jl:265\n",
      "   in _start() at ./client.jl:321\n",
      "   in _start() at /Applications/Julia-0.5.app/Contents/Resources/julia/lib/julia/sys.dylib:?\n",
      "\u001b[1m\u001b[37mmany-to-one: Vector of Vectors: \u001b[0m\u001b[1m\u001b[31mError During Test\n",
      "\u001b[0m  Got an exception of type MethodError outside of a @test\n",
      "  MethodError: no method matching deferred_acceptanceA(::Array{Array{Int64,1},1}, ::Array{Array{Int64,1},1}, ::Array{Int64,1})\u001b[0m\n",
      "  Closest candidates are:\n",
      "    deferred_acceptanceA(\u001b[1m\u001b[31m::Array{Int64,2}\u001b[0m, \u001b[1m\u001b[31m::Array{Int64,2}\u001b[0m, ::Array{Int64,1}) at /Users/sasakiakihiro/.julia/v0.5/MyMatchingA/src/MyMatchingA.jl:6\u001b[0m\n",
      "   in macro expansion; at /Users/sasakiakihiro/.julia/v0.5/MyMatchingA/test/runtests.jl:223 [inlined]\n",
      "   in macro expansion; at ./test.jl:674 [inlined]\n",
      "   in macro expansion; at /Users/sasakiakihiro/.julia/v0.5/MyMatchingA/test/runtests.jl:218 [inlined]\n",
      "   in macro expansion; at ./test.jl:674 [inlined]\n",
      "   in anonymous at ./<missing>:?\n",
      "   in include_from_node1(::String) at ./loading.jl:488\n",
      "   in include_from_node1(::String) at /Applications/Julia-0.5.app/Contents/Resources/julia/lib/julia/sys.dylib:?\n",
      "   in process_options(::Base.JLOptions) at ./client.jl:265\n",
      "   in _start() at ./client.jl:321\n",
      "   in _start() at /Applications/Julia-0.5.app/Contents/Resources/julia/lib/julia/sys.dylib:?\n",
      "\u001b[1m\u001b[37mTest Summary:                    | \u001b[0m\u001b[1m\u001b[31mError  \u001b[0m\u001b[1m\u001b[34mTotal\u001b[0m\n",
      "  Testing deferred acceptance    | \u001b[1m\u001b[31m    2  \u001b[0m\u001b[1m\u001b[34m    2\u001b[0m\n",
      "  one-to-one: Vector of Vectors  | \u001b[1m\u001b[31m    1  \u001b[0m\u001b[1m\u001b[34m    1\u001b[0m\n",
      "  many-to-one: Vector of Vectors | \u001b[1m\u001b[31m    1  \u001b[0m\u001b[1m\u001b[34m    1\u001b[0m\n"
     ]
    },
    {
     "name": "stderr",
     "output_type": "stream",
     "text": [
      "\u001b[1m\u001b[31mERROR: LoadError: Some tests did not pass: 0 passed, 0 failed, 2 errored, 0 broken.\n",
      " in finish(::Base.Test.DefaultTestSet) at ./test.jl:498\n",
      " in macro expansion; at ./test.jl:681 [inlined]\n",
      " in anonymous at ./<missing>:?\n",
      " in include_from_node1(::String) at ./loading.jl:488\n",
      " in include_from_node1(::String) at /Applications/Julia-0.5.app/Contents/Resources/julia/lib/julia/sys.dylib:?\n",
      " in process_options(::Base.JLOptions) at ./client.jl:265\n",
      " in _start() at ./client.jl:321\n",
      " in _start() at /Applications/Julia-0.5.app/Contents/Resources/julia/lib/julia/sys.dylib:?\n",
      "while loading /Users/sasakiakihiro/.julia/v0.5/MyMatchingA/test/runtests.jl, in expression starting on line 17\n",
      "\u001b[0m\u001b[1m\u001b[31m=============================[ ERROR: MyMatchingA ]=============================\u001b[0m\n",
      "\n",
      "\u001b[1m\u001b[31mfailed process: Process(`/Applications/Julia-0.5.app/Contents/Resources/julia/bin/julia -Ccore2 -J/Applications/Julia-0.5.app/Contents/Resources/julia/lib/julia/sys.dylib --compile=yes --depwarn=yes --check-bounds=yes --code-coverage=none --color=yes --compilecache=yes /Users/sasakiakihiro/.julia/v0.5/MyMatchingA/test/runtests.jl`, ProcessExited(1)) [1]\u001b[0m\n",
      "\n",
      "\u001b[1m\u001b[31m================================================================================\u001b[0m\n"
     ]
    },
    {
     "ename": "LoadError",
     "evalue": "MyMatchingA had test errors",
     "output_type": "error",
     "traceback": [
      "MyMatchingA had test errors",
      "",
      " in #test#61(::Bool, ::Function, ::Array{AbstractString,1}) at ./pkg/entry.jl:749",
      " in (::Base.Pkg.Entry.#kw##test)(::Array{Any,1}, ::Base.Pkg.Entry.#test, ::Array{AbstractString,1}) at ./<missing>:0",
      " in (::Base.Pkg.Dir.##2#3{Array{Any,1},Base.Pkg.Entry.#test,Tuple{Array{AbstractString,1}}})() at ./pkg/dir.jl:31",
      " in cd(::Base.Pkg.Dir.##2#3{Array{Any,1},Base.Pkg.Entry.#test,Tuple{Array{AbstractString,1}}}, ::String) at ./file.jl:59",
      " in #cd#1(::Array{Any,1}, ::Function, ::Function, ::Array{AbstractString,1}, ::Vararg{Array{AbstractString,1},N}) at ./pkg/dir.jl:31",
      " in (::Base.Pkg.Dir.#kw##cd)(::Array{Any,1}, ::Base.Pkg.Dir.#cd, ::Function, ::Array{AbstractString,1}, ::Vararg{Array{AbstractString,1},N}) at ./<missing>:0",
      " in #test#3(::Bool, ::Function, ::String, ::Vararg{String,N}) at ./pkg/pkg.jl:258",
      " in test(::String, ::Vararg{String,N}) at ./pkg/pkg.jl:258"
     ]
    }
   ],
   "source": [
    "Pkg.test(\"MyMatchingA\")"
   ]
  },
  {
   "cell_type": "code",
   "execution_count": 9,
   "metadata": {
    "collapsed": false
   },
   "outputs": [
    {
     "name": "stderr",
     "output_type": "stream",
     "text": [
      "WARNING: replacing module MyMatchingA\n"
     ]
    },
    {
     "data": {
      "text/plain": [
       "my_deferred_acceptance1 (generic function with 1 method)"
      ]
     },
     "execution_count": 9,
     "metadata": {},
     "output_type": "execute_result"
    }
   ],
   "source": [
    "module MyMatchingA\n",
    "export my_deferred_acceptance\n",
    "\n",
    "# 多対一のケース\n",
    "function my_deferred_acceptance(prop_prefs::Array{Int64,2}, resp_prefs::Array{Int64,2}, caps::Array{Int64,1})\n",
    "    m = size(prop_prefs, 2)\n",
    "    n = size(resp_prefs, 2)\n",
    "    \n",
    "    prop_matches = fill(-1, m)\n",
    "    \n",
    "    prop_next_to_propose = ones(Int64, m)\n",
    "    L = sum(caps)\n",
    "    resp_matches = zeros(Int64, L)\n",
    "    \n",
    "    indptr = Array(Int,n+1)\n",
    "    indptr[1] = 1\n",
    "    for i in 1:n\n",
    "        indptr[i+1] = indptr[i] + caps[i]\n",
    "    end    \n",
    "    \n",
    "    resp_rankings = (m+1)*ones(Int, m, n)    \n",
    "    \n",
    "    for j in 1:n\n",
    "       for i in 1:length(resp_prefs[j])\n",
    "           b = length(resp_prefs[j])\n",
    "           a = resp_prefs[j][i]\n",
    "           resp_rankings[a,j] = i\n",
    "       end\n",
    "    end\n",
    "    \n",
    "    \n",
    "    while true\n",
    "        i = get_single(prop_matches)\n",
    "        if i == 0\n",
    "            break\n",
    "        end\n",
    "        if prop_next_to_propose[i] > length(prop_prefs[i])\n",
    "            prop_matches[i] = 0\n",
    "            continue\n",
    "        end        \n",
    "            \n",
    "\n",
    "        #学生iが入りたい大学jを探す．\n",
    "        j = prop_prefs[i][prop_next_to_propose[i]]\n",
    "        #if j == 0\n",
    "        #    prop_matches[i] = 0\n",
    "        #    continue\n",
    "        #end\n",
    "        \n",
    "        #大学jのリストを探す\n",
    "        #要修正？\n",
    "        p = resp_matches[indptr[j]:indptr[j+1]-1]\n",
    "        \n",
    "        if resp_rankings[i,j] >= m+1\n",
    "            prop_next_to_propose[i] += 1\n",
    "            continue\n",
    "        end\n",
    "\n",
    "        #大学jが受け入れ可能なら受け入れる．\n",
    "        a = findfirst(p,0)\n",
    "        if a != 0\n",
    "            resp_matches[indptr[j]-1+a] = i\n",
    "            prop_matches[i] = j\n",
    "\n",
    "        #大学jが定員オーバーしている場合\n",
    "        else\n",
    "        #大学jがiの方を選好していれば，受け入れる．\n",
    "            list_comp = Array(Int, length(p))\n",
    "            for k in 1:length(p)\n",
    "                b = resp_rankings[p[k],j]\n",
    "                list_comp[k] = b\n",
    "            end\n",
    "            b_max = maximum(list_comp)\n",
    "            c = findfirst(resp_rankings[:,j], b_max)\n",
    "            \n",
    "            if resp_rankings[i,j] < resp_rankings[c,j]\n",
    "                d = findfirst(resp_matches, c)\n",
    "                resp_matches[d] = i\n",
    "                prop_matches[i] = j\n",
    "                prop_matches[c] = -1\n",
    "            end\n",
    "        end\n",
    "        prop_next_to_propose[i] += 1\n",
    "    end\n",
    "    \n",
    "    return prop_matches, resp_matches, indptr    \n",
    "end\n",
    "\n",
    "#どこにも決まってない学生を返す．(存在しなければ0)\n",
    "function get_single(partners)\n",
    "    m = size(partners, 1)\n",
    "    for i in 1:m\n",
    "        if partners[i] == -1\n",
    "          return i\n",
    "        end        \n",
    "    end\n",
    "    return 0   \n",
    "end\n",
    "\n",
    "\n",
    "end\n",
    "\n",
    "\n",
    "\n",
    "# 一対一のケース\n",
    "function my_deferred_acceptance1(prop_prefs::Array{Int64,2},resp_prefs::Array{Int64,2})\n",
    "    caps = ones(Int, size(resp_prefs, 2))\n",
    "    prop_matches, resp_matches, indptr =\n",
    "        my_deferred_acceptance(prop_prefs, resp_prefs, caps)\n",
    "    return prop_matches, resp_matches\n",
    "end"
   ]
  },
  {
   "cell_type": "code",
   "execution_count": 3,
   "metadata": {
    "collapsed": false
   },
   "outputs": [],
   "source": [
    "using MyMatchingA"
   ]
  },
  {
   "cell_type": "code",
   "execution_count": 4,
   "metadata": {
    "collapsed": false
   },
   "outputs": [
    {
     "data": {
      "text/plain": [
       "4×4 Array{Int64,2}:\n",
       " 3  1  3  1\n",
       " 1  2  2  2\n",
       " 2  3  1  3\n",
       " 0  0  0  0"
      ]
     },
     "execution_count": 4,
     "metadata": {},
     "output_type": "execute_result"
    }
   ],
   "source": [
    "prop_prefs = [3  1  3  1;\n",
    "              1  2  2  2;\n",
    "              2  3  1  3;\n",
    "              0  0  0  0]"
   ]
  },
  {
   "cell_type": "code",
   "execution_count": 3,
   "metadata": {
    "collapsed": false
   },
   "outputs": [
    {
     "data": {
      "text/plain": [
       "4-element Array{Array{Int64,N},1}:\n",
       " [3,1,2,0]\n",
       " [1,2,3,0]\n",
       " [3,2,1,0]\n",
       " [1,2,3,0]"
      ]
     },
     "execution_count": 3,
     "metadata": {},
     "output_type": "execute_result"
    }
   ],
   "source": [
    "prop_prefs=Array{Int}[[3,1,2,0],[1,2,3,0],[3,2,1,0],[1,2,3,0]]"
   ]
  },
  {
   "cell_type": "code",
   "execution_count": 4,
   "metadata": {
    "collapsed": false
   },
   "outputs": [
    {
     "data": {
      "text/plain": [
       "4×4 Array{Int64,2}:\n",
       " 3  1  2  0\n",
       " 1  2  3  0\n",
       " 3  2  1  0\n",
       " 1  2  3  0"
      ]
     },
     "execution_count": 4,
     "metadata": {},
     "output_type": "execute_result"
    }
   ],
   "source": [
    "prop_prefs = [3 1 2 0;\n",
    "              1 2 3 0;\n",
    "              3 2 1 0;\n",
    "              1 2 3 0]"
   ]
  },
  {
   "cell_type": "code",
   "execution_count": 5,
   "metadata": {
    "collapsed": false
   },
   "outputs": [
    {
     "data": {
      "text/plain": [
       "5×3 Array{Int64,2}:\n",
       " 4  4  4\n",
       " 1  1  2\n",
       " 3  2  1\n",
       " 2  3  3\n",
       " 0  0  0"
      ]
     },
     "execution_count": 5,
     "metadata": {},
     "output_type": "execute_result"
    }
   ],
   "source": [
    "resp_prefs = [4  4  4;\n",
    "              1  1  2;\n",
    "              3  2  1;\n",
    "              2  3  3;\n",
    "              0  0  0]"
   ]
  },
  {
   "cell_type": "code",
   "execution_count": 12,
   "metadata": {
    "collapsed": false
   },
   "outputs": [
    {
     "data": {
      "text/plain": [
       "3-element Array{Array{Int64,N},1}:\n",
       " [4,1,3,2,0]\n",
       " [4,1,2,3,0]\n",
       " [4,2,1,3,0]"
      ]
     },
     "execution_count": 12,
     "metadata": {},
     "output_type": "execute_result"
    }
   ],
   "source": [
    "resp_prefs = Array{Int}[[4,1,3,2,0],[4,1,2,3,0],[4,2,1,3,0]]"
   ]
  },
  {
   "cell_type": "code",
   "execution_count": 5,
   "metadata": {
    "collapsed": false
   },
   "outputs": [
    {
     "data": {
      "text/plain": [
       "3×5 Array{Int64,2}:\n",
       " 4  1  3  2  0\n",
       " 4  1  2  3  0\n",
       " 4  2  1  3  0"
      ]
     },
     "execution_count": 5,
     "metadata": {},
     "output_type": "execute_result"
    }
   ],
   "source": [
    "resp_prefs = [4 1 3 2 0;\n",
    "              4 1 2 3 0;\n",
    "              4 2 1 3 0]"
   ]
  },
  {
   "cell_type": "code",
   "execution_count": null,
   "metadata": {
    "collapsed": true
   },
   "outputs": [],
   "source": []
  },
  {
   "cell_type": "code",
   "execution_count": 6,
   "metadata": {
    "collapsed": false
   },
   "outputs": [
    {
     "data": {
      "text/plain": [
       "3-element Array{Int64,1}:\n",
       " 2\n",
       " 3\n",
       " 2"
      ]
     },
     "execution_count": 6,
     "metadata": {},
     "output_type": "execute_result"
    }
   ],
   "source": [
    "caps = [2,3,2]"
   ]
  },
  {
   "cell_type": "code",
   "execution_count": 15,
   "metadata": {
    "collapsed": false
   },
   "outputs": [
    {
     "data": {
      "text/plain": [
       "Array{Int64,2}"
      ]
     },
     "execution_count": 15,
     "metadata": {},
     "output_type": "execute_result"
    }
   ],
   "source": [
    "typeof(prop_prefs)"
   ]
  },
  {
   "cell_type": "code",
   "execution_count": 16,
   "metadata": {
    "collapsed": false
   },
   "outputs": [
    {
     "data": {
      "text/plain": [
       "Array{Int64,2}"
      ]
     },
     "execution_count": 16,
     "metadata": {},
     "output_type": "execute_result"
    }
   ],
   "source": [
    "typeof(resp_prefs)"
   ]
  },
  {
   "cell_type": "code",
   "execution_count": 17,
   "metadata": {
    "collapsed": false
   },
   "outputs": [
    {
     "data": {
      "text/plain": [
       "Array{Int64,1}"
      ]
     },
     "execution_count": 17,
     "metadata": {},
     "output_type": "execute_result"
    }
   ],
   "source": [
    "typeof(caps)"
   ]
  },
  {
   "cell_type": "code",
   "execution_count": 7,
   "metadata": {
    "collapsed": false
   },
   "outputs": [
    {
     "ename": "LoadError",
     "evalue": "BoundsError: attempt to access 3-element Array{Int64,1} at index [4]",
     "output_type": "error",
     "traceback": [
      "BoundsError: attempt to access 3-element Array{Int64,1} at index [4]",
      "",
      " in deferred_acceptanceA(::Array{Int64,2}, ::Array{Int64,2}, ::Array{Int64,1}) at /Users/sasakiakihiro/.julia/v0.5/MyMatchingA/src/MyMatchingA.jl:18"
     ]
    }
   ],
   "source": [
    "deferred_acceptanceA(prop_prefs,resp_prefs,caps)"
   ]
  },
  {
   "cell_type": "code",
   "execution_count": 35,
   "metadata": {
    "collapsed": false
   },
   "outputs": [
    {
     "data": {
      "text/plain": [
       "3-element Array{Int64,1}:\n",
       " 4638988464\n",
       " 4577296608\n",
       " 4577296672"
      ]
     },
     "execution_count": 35,
     "metadata": {},
     "output_type": "execute_result"
    }
   ],
   "source": [
    "list_comp = Array(Int, 3)"
   ]
  },
  {
   "cell_type": "code",
   "execution_count": 36,
   "metadata": {
    "collapsed": false
   },
   "outputs": [
    {
     "data": {
      "text/plain": [
       "Int64"
      ]
     },
     "execution_count": 36,
     "metadata": {},
     "output_type": "execute_result"
    }
   ],
   "source": [
    "typeof(findfirst(caps,2))"
   ]
  },
  {
   "cell_type": "code",
   "execution_count": 37,
   "metadata": {
    "collapsed": true
   },
   "outputs": [],
   "source": [
    "using Matching"
   ]
  },
  {
   "cell_type": "code",
   "execution_count": 38,
   "metadata": {
    "collapsed": false
   },
   "outputs": [
    {
     "ename": "LoadError",
     "evalue": "MethodError: no method matching deferred_acceptance(::Array{Array{Int64,N},1}, ::Array{Int64,2}, ::Array{Int64,1})\u001b[0m\nClosest candidates are:\n  deferred_acceptance(\u001b[1m\u001b[31m::Array{Int64,2}\u001b[0m, ::Array{Int64,2}, ::Array{Int64,1}) at /Users/sasakiakihiro/.julia/v0.5/Matching/src/deferred_acceptance.jl:233\n  deferred_acceptance(\u001b[1m\u001b[31m::Array{Int64,2}\u001b[0m, ::Array{Int64,2}, ::Array{Int64,1}, \u001b[1m\u001b[31m::Array{Int64,1}\u001b[0m) at /Users/sasakiakihiro/.julia/v0.5/Matching/src/deferred_acceptance.jl:49\n  deferred_acceptance{P<:Matching.DAProposal}(\u001b[1m\u001b[31m::Array{Int64,2}\u001b[0m, ::Array{Int64,2}, ::Array{Int64,1}, \u001b[1m\u001b[31m::Type{P<:Matching.DAProposal}\u001b[0m) at /Users/sasakiakihiro/.julia/v0.5/Matching/src/deferred_acceptance.jl:233\n  ...\u001b[0m",
     "output_type": "error",
     "traceback": [
      "MethodError: no method matching deferred_acceptance(::Array{Array{Int64,N},1}, ::Array{Int64,2}, ::Array{Int64,1})\u001b[0m\nClosest candidates are:\n  deferred_acceptance(\u001b[1m\u001b[31m::Array{Int64,2}\u001b[0m, ::Array{Int64,2}, ::Array{Int64,1}) at /Users/sasakiakihiro/.julia/v0.5/Matching/src/deferred_acceptance.jl:233\n  deferred_acceptance(\u001b[1m\u001b[31m::Array{Int64,2}\u001b[0m, ::Array{Int64,2}, ::Array{Int64,1}, \u001b[1m\u001b[31m::Array{Int64,1}\u001b[0m) at /Users/sasakiakihiro/.julia/v0.5/Matching/src/deferred_acceptance.jl:49\n  deferred_acceptance{P<:Matching.DAProposal}(\u001b[1m\u001b[31m::Array{Int64,2}\u001b[0m, ::Array{Int64,2}, ::Array{Int64,1}, \u001b[1m\u001b[31m::Type{P<:Matching.DAProposal}\u001b[0m) at /Users/sasakiakihiro/.julia/v0.5/Matching/src/deferred_acceptance.jl:233\n  ...\u001b[0m",
      ""
     ]
    }
   ],
   "source": [
    "deferred_acceptance(prop_prefs,resp_prefs,caps)"
   ]
  },
  {
   "cell_type": "code",
   "execution_count": 39,
   "metadata": {
    "collapsed": false
   },
   "outputs": [
    {
     "data": {
      "text/plain": [
       "Int64"
      ]
     },
     "execution_count": 39,
     "metadata": {},
     "output_type": "execute_result"
    }
   ],
   "source": [
    "typeof(size(prop_prefs, 2))"
   ]
  },
  {
   "cell_type": "code",
   "execution_count": 40,
   "metadata": {
    "collapsed": false
   },
   "outputs": [
    {
     "data": {
      "text/plain": [
       "3"
      ]
     },
     "execution_count": 40,
     "metadata": {},
     "output_type": "execute_result"
    }
   ],
   "source": [
    "size(resp_prefs, 2)"
   ]
  },
  {
   "cell_type": "code",
   "execution_count": 41,
   "metadata": {
    "collapsed": false
   },
   "outputs": [
    {
     "data": {
      "text/plain": [
       "3"
      ]
     },
     "execution_count": 41,
     "metadata": {},
     "output_type": "execute_result"
    }
   ],
   "source": [
    "m = size(prop_prefs, 2)\n",
    "    n = size(resp_prefs, 2)"
   ]
  },
  {
   "cell_type": "code",
   "execution_count": 42,
   "metadata": {
    "collapsed": false
   },
   "outputs": [
    {
     "data": {
      "text/plain": [
       "1-element Array{Int64,1}:\n",
       " -1"
      ]
     },
     "execution_count": 42,
     "metadata": {},
     "output_type": "execute_result"
    }
   ],
   "source": [
    "prop_matches = fill(-1, m)"
   ]
  },
  {
   "cell_type": "code",
   "execution_count": 43,
   "metadata": {
    "collapsed": false
   },
   "outputs": [
    {
     "data": {
      "text/plain": [
       "1-element Array{Int64,1}:\n",
       " 1"
      ]
     },
     "execution_count": 43,
     "metadata": {},
     "output_type": "execute_result"
    }
   ],
   "source": [
    "prop_next_to_propose = ones(Int64, m)"
   ]
  },
  {
   "cell_type": "code",
   "execution_count": 44,
   "metadata": {
    "collapsed": false
   },
   "outputs": [
    {
     "data": {
      "text/plain": [
       "7-element Array{Int64,1}:\n",
       " 0\n",
       " 0\n",
       " 0\n",
       " 0\n",
       " 0\n",
       " 0\n",
       " 0"
      ]
     },
     "execution_count": 44,
     "metadata": {},
     "output_type": "execute_result"
    }
   ],
   "source": [
    "L = sum(caps)\n",
    "    resp_matches = zeros(Int64, L)"
   ]
  },
  {
   "cell_type": "code",
   "execution_count": 45,
   "metadata": {
    "collapsed": true
   },
   "outputs": [],
   "source": [
    "indptr = Array(Int,n+1)\n",
    "indptr[1] = 1\n",
    "    for i in 1:n\n",
    "        indptr[i+1] = indptr[i] + caps[i]\n",
    "    end  "
   ]
  },
  {
   "cell_type": "code",
   "execution_count": 46,
   "metadata": {
    "collapsed": false
   },
   "outputs": [
    {
     "data": {
      "text/plain": [
       "Array{Int64,1}"
      ]
     },
     "execution_count": 46,
     "metadata": {},
     "output_type": "execute_result"
    }
   ],
   "source": [
    "typeof(indptr)"
   ]
  },
  {
   "cell_type": "code",
   "execution_count": 48,
   "metadata": {
    "collapsed": false
   },
   "outputs": [
    {
     "ename": "LoadError",
     "evalue": "BoundsError: attempt to access 1×3 Array{Int64,2} at index [4,1]",
     "output_type": "error",
     "traceback": [
      "BoundsError: attempt to access 1×3 Array{Int64,2} at index [4,1]",
      "",
      " in setindex!(::Array{Int64,2}, ::Int64, ::Int64, ::Int64) at ./array.jl:416",
      " in macro expansion; at ./In[48]:7 [inlined]",
      " in anonymous at ./<missing>:?"
     ]
    }
   ],
   "source": [
    "resp_rankings = (m+1)*ones(Int, m, n)    \n",
    "    \n",
    "    for j in 1:n\n",
    "       for i in 1:length(resp_prefs[j])\n",
    "           b = length(resp_prefs[j])\n",
    "           a = resp_prefs[j][i]\n",
    "           resp_rankings[a,j] = i\n",
    "       end\n",
    "    end"
   ]
  },
  {
   "cell_type": "code",
   "execution_count": 49,
   "metadata": {
    "collapsed": false
   },
   "outputs": [
    {
     "data": {
      "text/plain": [
       "Array{Int64,2}"
      ]
     },
     "execution_count": 49,
     "metadata": {},
     "output_type": "execute_result"
    }
   ],
   "source": [
    "typeof(resp_rankings)"
   ]
  },
  {
   "cell_type": "code",
   "execution_count": 50,
   "metadata": {
    "collapsed": false
   },
   "outputs": [
    {
     "data": {
      "text/plain": [
       "1×3 Array{Int64,2}:\n",
       " 2  2  2"
      ]
     },
     "execution_count": 50,
     "metadata": {},
     "output_type": "execute_result"
    }
   ],
   "source": [
    "resp_rankings"
   ]
  },
  {
   "cell_type": "code",
   "execution_count": null,
   "metadata": {
    "collapsed": true
   },
   "outputs": [],
   "source": []
  }
 ],
 "metadata": {
  "kernelspec": {
   "display_name": "Julia 0.5.1",
   "language": "julia",
   "name": "julia-0.5"
  },
  "language_info": {
   "file_extension": ".jl",
   "mimetype": "application/julia",
   "name": "julia",
   "version": "0.5.1"
  }
 },
 "nbformat": 4,
 "nbformat_minor": 2
}

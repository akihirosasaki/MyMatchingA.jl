{
 "cells": [
  {
   "cell_type": "code",
   "execution_count": 1,
   "metadata": {
    "collapsed": false,
    "scrolled": true
   },
   "outputs": [
    {
     "name": "stderr",
     "output_type": "stream",
     "text": [
      "\u001b[1m\u001b[34mINFO: Checking out MyMatchingA master...\n",
      "\u001b[0m\u001b[1m\u001b[34mINFO: Pulling MyMatchingA latest master...\n",
      "\u001b[0m\u001b[1m\u001b[34mINFO: No packages to install, update or remove\n",
      "\u001b[0m"
     ]
    }
   ],
   "source": [
    "Pkg.checkout(\"MyMatchingA\")"
   ]
  },
  {
   "cell_type": "code",
   "execution_count": 2,
   "metadata": {
    "collapsed": false,
    "scrolled": true
   },
   "outputs": [
    {
     "name": "stderr",
     "output_type": "stream",
     "text": [
      "\u001b[1m\u001b[34mINFO: Testing MyMatchingA\n",
      "\u001b[0m"
     ]
    },
    {
     "name": "stdout",
     "output_type": "stream",
     "text": [
      "q = resp_rankings = [2 1 5; 3 2 5; 1 3 1; 4 4 5]\n",
      "i = get_single(prop_matches) = 1\n",
      "j = (prop_prefs[i])[prop_next_to_propose[i]] = 1\n",
      "p = resp_matches[indptr[j]:indptr[j + 1] - 1] = [0]\n",
      "a = findfirst(p,0) = 1\n",
      "prop_next_to_propose[i] += 1 = 2\n",
      "i = get_single(prop_matches) = 2\n",
      "j = (prop_prefs[i])[prop_next_to_propose[i]] = 3\n",
      "p = resp_matches[indptr[j]:indptr[j + 1] - 1] = [0]\n",
      "i = get_single(prop_matches) = 2\n",
      "\u001b[1m\u001b[37mone-to-one: Vector of Vectors: \u001b[0m\u001b[1m\u001b[31mError During Test\n",
      "\u001b[0m  Got an exception of type BoundsError outside of a @test\n",
      "  BoundsError\n",
      "   in getindex at ./number.jl:21 [inlined]\n",
      "   in macro expansion at ./show.jl:218 [inlined]\n",
      "   in deferred_acceptance(::Array{Int64,2}, ::Array{Int64,2}, ::Array{Int64,1}) at /Users/sasakiakihiro/.julia/v0.5/MyMatchingA/src/MyMatchingA.jl:99\n",
      "   in deferred_acceptance(::Array{Array{Int64,1},1}, ::Array{Array{Int64,1},1}) at /Users/sasakiakihiro/.julia/v0.5/MyMatchingA/src/MyMatchingA.jl:49\n",
      "   in macro expansion; at /Users/sasakiakihiro/.julia/v0.5/MyMatchingA/test/runtests.jl:207 [inlined]\n",
      "   in macro expansion; at ./test.jl:674 [inlined]\n",
      "   in macro expansion; at /Users/sasakiakihiro/.julia/v0.5/MyMatchingA/test/runtests.jl:201 [inlined]\n",
      "   in macro expansion; at ./test.jl:674 [inlined]\n",
      "   in anonymous at ./<missing>:?\n",
      "   in include_from_node1(::String) at ./loading.jl:488\n",
      "   in include_from_node1(::String) at /Applications/Julia-0.5.app/Contents/Resources/julia/lib/julia/sys.dylib:?\n",
      "   in process_options(::Base.JLOptions) at ./client.jl:265\n",
      "   in _start() at ./client.jl:321\n",
      "   in _start() at /Applications/Julia-0.5.app/Contents/Resources/julia/lib/julia/sys.dylib:?\n",
      "q = resp_rankings = [10 12 8 2 6; 11 6 5 3 1; 1 7 4 8 8; 6 12 6 5 2; 5 1 12 7 12; 9 4 2 9 5; 2 2 7 12 4; 8 5 3 10 7; 3 12 12 6 10; 7 3 9 1 3; 4 8 1 4 9]\n",
      "i = get_single(prop_matches) = 1\n",
      "j = (prop_prefs[i])[prop_next_to_propose[i]] = 3\n",
      "p = resp_matches[indptr[j]:indptr[j + 1] - 1] = [0,0,0]\n",
      "a = findfirst(p,0) = 1\n",
      "prop_next_to_propose[i] += 1 = 2\n",
      "i = get_single(prop_matches) = 2\n",
      "j = (prop_prefs[i])[prop_next_to_propose[i]] = 1\n",
      "p = resp_matches[indptr[j]:indptr[j + 1] - 1] = [0,0,0,0]\n",
      "a = findfirst(p,0) = 1\n",
      "prop_next_to_propose[i] += 1 = 2\n",
      "i = get_single(prop_matches) = 3\n",
      "j = (prop_prefs[i])[prop_next_to_propose[i]] = 4\n",
      "p = resp_matches[indptr[j]:indptr[j + 1] - 1] = [0,0]\n",
      "a = findfirst(p,0) = 1\n",
      "prop_next_to_propose[i] += 1 = 2\n",
      "i = get_single(prop_matches) = 4\n",
      "j = (prop_prefs[i])[prop_next_to_propose[i]] = 3\n",
      "p = resp_matches[indptr[j]:indptr[j + 1] - 1] = [1,0,0]\n",
      "a = findfirst(p,0) = 2\n",
      "prop_next_to_propose[i] += 1 = 2\n",
      "i = get_single(prop_matches) = 5\n",
      "j = (prop_prefs[i])[prop_next_to_propose[i]] = 1\n",
      "p = resp_matches[indptr[j]:indptr[j + 1] - 1] = [2,0,0,0]\n",
      "a = findfirst(p,0) = 2\n",
      "prop_next_to_propose[i] += 1 = 2\n",
      "i = get_single(prop_matches) = 6\n",
      "j = (prop_prefs[i])[prop_next_to_propose[i]] = 4\n",
      "p = resp_matches[indptr[j]:indptr[j + 1] - 1] = [3,0]\n",
      "a = findfirst(p,0) = 2\n",
      "prop_next_to_propose[i] += 1 = 2\n",
      "i = get_single(prop_matches) = 7\n",
      "j = (prop_prefs[i])[prop_next_to_propose[i]] = 2\n",
      "p = resp_matches[indptr[j]:indptr[j + 1] - 1] = [0]\n",
      "a = findfirst(p,0) = 1\n",
      "prop_next_to_propose[i] += 1 = 2\n",
      "i = get_single(prop_matches) = 8\n",
      "j = (prop_prefs[i])[prop_next_to_propose[i]] = 1\n",
      "p = resp_matches[indptr[j]:indptr[j + 1] - 1] = [2,5,0,0]\n",
      "a = findfirst(p,0) = 3\n",
      "prop_next_to_propose[i] += 1 = 2\n",
      "i = get_single(prop_matches) = 9\n",
      "j = (prop_prefs[i])[prop_next_to_propose[i]] = 4\n",
      "p = resp_matches[indptr[j]:indptr[j + 1] - 1] = [3,6]\n",
      "a = findfirst(p,0) = 0\n",
      "prop_next_to_propose[i] += 1 = 2\n",
      "i = get_single(prop_matches) = 6\n",
      "\u001b[1m\u001b[37mmany-to-one: Vector of Vectors: \u001b[0m\u001b[1m\u001b[31mError During Test\n",
      "\u001b[0m  Got an exception of type BoundsError outside of a @test\n",
      "  BoundsError\n",
      "   in getindex at ./number.jl:21 [inlined]\n",
      "   in macro expansion at ./show.jl:218 [inlined]\n",
      "   in deferred_acceptance(::Array{Int64,2}, ::Array{Int64,2}, ::Array{Int64,1}) at /Users/sasakiakihiro/.julia/v0.5/MyMatchingA/src/MyMatchingA.jl:99\n",
      "   in deferred_acceptance(::Array{Array{Int64,1},1}, ::Array{Array{Int64,1},1}, ::Array{Int64,1}) at /Users/sasakiakihiro/.julia/v0.5/MyMatchingA/src/MyMatchingA.jl:23\n",
      "   in macro expansion; at /Users/sasakiakihiro/.julia/v0.5/MyMatchingA/test/runtests.jl:223 [inlined]\n",
      "   in macro expansion; at ./test.jl:674 [inlined]\n",
      "   in macro expansion; at /Users/sasakiakihiro/.julia/v0.5/MyMatchingA/test/runtests.jl:218 [inlined]\n",
      "   in macro expansion; at ./test.jl:674 [inlined]\n",
      "   in anonymous at ./<missing>:?\n",
      "   in include_from_node1(::String) at ./loading.jl:488\n",
      "   in include_from_node1(::String) at /Applications/Julia-0.5.app/Contents/Resources/julia/lib/julia/sys.dylib:?\n",
      "   in process_options(::Base.JLOptions) at ./client.jl:265\n",
      "   in _start() at ./client.jl:321\n",
      "   in _start() at /Applications/Julia-0.5.app/Contents/Resources/julia/lib/julia/sys.dylib:?\n",
      "\u001b[1m\u001b[37mTest Summary:                    | \u001b[0m\u001b[1m\u001b[31mError  \u001b[0m\u001b[1m\u001b[34mTotal\u001b[0m\n",
      "  Testing deferred acceptance    | \u001b[1m\u001b[31m    2  \u001b[0m\u001b[1m\u001b[34m    2\u001b[0m\n",
      "  one-to-one: Vector of Vectors  | \u001b[1m\u001b[31m    1  \u001b[0m\u001b[1m\u001b[34m    1\u001b[0m\n",
      "  many-to-one: Vector of Vectors | \u001b[1m\u001b[31m    1  \u001b[0m\u001b[1m\u001b[34m    1\u001b[0m\n"
     ]
    },
    {
     "name": "stderr",
     "output_type": "stream",
     "text": [
      "\u001b[1m\u001b[31mERROR: LoadError: Some tests did not pass: 0 passed, 0 failed, 2 errored, 0 broken.\n",
      " in finish(::Base.Test.DefaultTestSet) at ./test.jl:498\n",
      " in macro expansion; at ./test.jl:681 [inlined]\n",
      " in anonymous at ./<missing>:?\n",
      " in include_from_node1(::String) at ./loading.jl:488\n",
      " in include_from_node1(::String) at /Applications/Julia-0.5.app/Contents/Resources/julia/lib/julia/sys.dylib:?\n",
      " in process_options(::Base.JLOptions) at ./client.jl:265\n",
      " in _start() at ./client.jl:321\n",
      " in _start() at /Applications/Julia-0.5.app/Contents/Resources/julia/lib/julia/sys.dylib:?\n",
      "while loading /Users/sasakiakihiro/.julia/v0.5/MyMatchingA/test/runtests.jl, in expression starting on line 17\n",
      "\u001b[0m\u001b[1m\u001b[31m=============================[ ERROR: MyMatchingA ]=============================\u001b[0m\n",
      "\n",
      "\u001b[1m\u001b[31mfailed process: Process(`/Applications/Julia-0.5.app/Contents/Resources/julia/bin/julia -Ccore2 -J/Applications/Julia-0.5.app/Contents/Resources/julia/lib/julia/sys.dylib --compile=yes --depwarn=yes --check-bounds=yes --code-coverage=none --color=yes --compilecache=yes /Users/sasakiakihiro/.julia/v0.5/MyMatchingA/test/runtests.jl`, ProcessExited(1)) [1]\u001b[0m\n",
      "\n",
      "\u001b[1m\u001b[31m================================================================================\u001b[0m\n"
     ]
    },
    {
     "ename": "LoadError",
     "evalue": "MyMatchingA had test errors",
     "output_type": "error",
     "traceback": [
      "MyMatchingA had test errors",
      "",
      " in #test#61(::Bool, ::Function, ::Array{AbstractString,1}) at ./pkg/entry.jl:749",
      " in (::Base.Pkg.Entry.#kw##test)(::Array{Any,1}, ::Base.Pkg.Entry.#test, ::Array{AbstractString,1}) at ./<missing>:0",
      " in (::Base.Pkg.Dir.##2#3{Array{Any,1},Base.Pkg.Entry.#test,Tuple{Array{AbstractString,1}}})() at ./pkg/dir.jl:31",
      " in cd(::Base.Pkg.Dir.##2#3{Array{Any,1},Base.Pkg.Entry.#test,Tuple{Array{AbstractString,1}}}, ::String) at ./file.jl:59",
      " in #cd#1(::Array{Any,1}, ::Function, ::Function, ::Array{AbstractString,1}, ::Vararg{Array{AbstractString,1},N}) at ./pkg/dir.jl:31",
      " in (::Base.Pkg.Dir.#kw##cd)(::Array{Any,1}, ::Base.Pkg.Dir.#cd, ::Function, ::Array{AbstractString,1}, ::Vararg{Array{AbstractString,1},N}) at ./<missing>:0",
      " in #test#3(::Bool, ::Function, ::String, ::Vararg{String,N}) at ./pkg/pkg.jl:258",
      " in test(::String, ::Vararg{String,N}) at ./pkg/pkg.jl:258"
     ]
    }
   ],
   "source": [
    "Pkg.test(\"MyMatchingA\")"
   ]
  },
  {
   "cell_type": "code",
   "execution_count": 3,
   "metadata": {
    "collapsed": false,
    "scrolled": true
   },
   "outputs": [],
   "source": [
    "using MyMatchingA"
   ]
  },
  {
   "cell_type": "code",
   "execution_count": 4,
   "metadata": {
    "collapsed": false
   },
   "outputs": [
    {
     "data": {
      "text/html": [
       "4 methods for generic function <b>deferred_acceptance</b>:<ul><li> deferred_acceptance(prop_prefs::<b>Array{Int64,2}</b>, resp_prefs::<b>Array{Int64,2}</b>) at <a href=\"https://github.com/akihirosasaki/MyMatchingA.jl/tree/50b4f4351273f36909b26085bb8ffc6b354d1085/src/MyMatchingA.jl#L158\" target=\"_blank\">/Users/sasakiakihiro/.julia/v0.5/MyMatchingA/src/MyMatchingA.jl:158</a></li> <li> deferred_acceptance(prop_prefs::<b>Array{Int64,2}</b>, resp_prefs::<b>Array{Int64,2}</b>, caps::<b>Array{Int64,1}</b>) at <a href=\"https://github.com/akihirosasaki/MyMatchingA.jl/tree/50b4f4351273f36909b26085bb8ffc6b354d1085/src/MyMatchingA.jl#L56\" target=\"_blank\">/Users/sasakiakihiro/.julia/v0.5/MyMatchingA/src/MyMatchingA.jl:56</a></li> <li> deferred_acceptance(m_prefs::<b>Array{Array{Int64,1},1}</b>, f_prefs::<b>Array{Array{Int64,1},1}</b>) at <a href=\"https://github.com/akihirosasaki/MyMatchingA.jl/tree/50b4f4351273f36909b26085bb8ffc6b354d1085/src/MyMatchingA.jl#L30\" target=\"_blank\">/Users/sasakiakihiro/.julia/v0.5/MyMatchingA/src/MyMatchingA.jl:30</a></li> <li> deferred_acceptance(m_prefs::<b>Array{Array{Int64,1},1}</b>, f_prefs::<b>Array{Array{Int64,1},1}</b>, caps::<b>Array{Int64,1}</b>) at <a href=\"https://github.com/akihirosasaki/MyMatchingA.jl/tree/50b4f4351273f36909b26085bb8ffc6b354d1085/src/MyMatchingA.jl#L5\" target=\"_blank\">/Users/sasakiakihiro/.julia/v0.5/MyMatchingA/src/MyMatchingA.jl:5</a></li> </ul>"
      ],
      "text/plain": [
       "# 4 methods for generic function \"deferred_acceptance\":\n",
       "deferred_acceptance(prop_prefs::Array{Int64,2}, resp_prefs::Array{Int64,2}) at /Users/sasakiakihiro/.julia/v0.5/MyMatchingA/src/MyMatchingA.jl:158\n",
       "deferred_acceptance(prop_prefs::Array{Int64,2}, resp_prefs::Array{Int64,2}, caps::Array{Int64,1}) at /Users/sasakiakihiro/.julia/v0.5/MyMatchingA/src/MyMatchingA.jl:56\n",
       "deferred_acceptance(m_prefs::Array{Array{Int64,1},1}, f_prefs::Array{Array{Int64,1},1}) at /Users/sasakiakihiro/.julia/v0.5/MyMatchingA/src/MyMatchingA.jl:30\n",
       "deferred_acceptance(m_prefs::Array{Array{Int64,1},1}, f_prefs::Array{Array{Int64,1},1}, caps::Array{Int64,1}) at /Users/sasakiakihiro/.julia/v0.5/MyMatchingA/src/MyMatchingA.jl:5"
      ]
     },
     "execution_count": 4,
     "metadata": {},
     "output_type": "execute_result"
    }
   ],
   "source": [
    "methods(deferred_acceptance)"
   ]
  },
  {
   "cell_type": "code",
   "execution_count": 3,
   "metadata": {
    "collapsed": false
   },
   "outputs": [
    {
     "data": {
      "text/html": [
       "3 methods for generic function <b>deferred_acceptance</b>:<ul><li> deferred_acceptance(prop_prefs::<b>Array{Int64,2}</b>, resp_prefs::<b>Array{Int64,2}</b>, caps::<b>Array{Int64,1}</b>) at <a href=\"https://github.com/akihirosasaki/MyMatchingA.jl/tree/87957cd699a743cbbc65befbd87699d1c50d719f/src/MyMatchingA.jl#L56\" target=\"_blank\">/Users/sasakiakihiro/.julia/v0.5/MyMatchingA/src/MyMatchingA.jl:56</a></li> <li> deferred_acceptance(m_prefs::<b>Array{Array{Int64,1},1}</b>, f_prefs::<b>Array{Array{Int64,1},1}</b>) at <a href=\"https://github.com/akihirosasaki/MyMatchingA.jl/tree/87957cd699a743cbbc65befbd87699d1c50d719f/src/MyMatchingA.jl#L30\" target=\"_blank\">/Users/sasakiakihiro/.julia/v0.5/MyMatchingA/src/MyMatchingA.jl:30</a></li> <li> deferred_acceptance(m_prefs::<b>Array{Array{Int64,1},1}</b>, f_prefs::<b>Array{Array{Int64,1},1}</b>, caps::<b>Array{Int64,1}</b>) at <a href=\"https://github.com/akihirosasaki/MyMatchingA.jl/tree/87957cd699a743cbbc65befbd87699d1c50d719f/src/MyMatchingA.jl#L5\" target=\"_blank\">/Users/sasakiakihiro/.julia/v0.5/MyMatchingA/src/MyMatchingA.jl:5</a></li> </ul>"
      ],
      "text/plain": [
       "# 3 methods for generic function \"deferred_acceptance\":\n",
       "deferred_acceptance(prop_prefs::Array{Int64,2}, resp_prefs::Array{Int64,2}, caps::Array{Int64,1}) at /Users/sasakiakihiro/.julia/v0.5/MyMatchingA/src/MyMatchingA.jl:56\n",
       "deferred_acceptance(m_prefs::Array{Array{Int64,1},1}, f_prefs::Array{Array{Int64,1},1}) at /Users/sasakiakihiro/.julia/v0.5/MyMatchingA/src/MyMatchingA.jl:30\n",
       "deferred_acceptance(m_prefs::Array{Array{Int64,1},1}, f_prefs::Array{Array{Int64,1},1}, caps::Array{Int64,1}) at /Users/sasakiakihiro/.julia/v0.5/MyMatchingA/src/MyMatchingA.jl:5"
      ]
     },
     "execution_count": 3,
     "metadata": {},
     "output_type": "execute_result"
    }
   ],
   "source": [
    "methods(MyMatchingA.deferred_acceptance)"
   ]
  },
  {
   "cell_type": "code",
   "execution_count": 11,
   "metadata": {
    "collapsed": false
   },
   "outputs": [
    {
     "data": {
      "text/plain": [
       "4×4 Array{Int64,2}:\n",
       " 3  1  3  1\n",
       " 1  2  2  2\n",
       " 2  3  1  3\n",
       " 0  0  0  0"
      ]
     },
     "execution_count": 11,
     "metadata": {},
     "output_type": "execute_result"
    }
   ],
   "source": [
    "prop_prefs = [3  1  3  1;\n",
    "              1  2  2  2;\n",
    "              2  3  1  3;\n",
    "              0  0  0  0]"
   ]
  },
  {
   "cell_type": "code",
   "execution_count": 12,
   "metadata": {
    "collapsed": false
   },
   "outputs": [
    {
     "data": {
      "text/plain": [
       "4×4 Array{Int64,2}:\n",
       " 3  1  2  0\n",
       " 1  2  3  0\n",
       " 3  2  1  0\n",
       " 1  2  3  0"
      ]
     },
     "execution_count": 12,
     "metadata": {},
     "output_type": "execute_result"
    }
   ],
   "source": [
    "transpose(prop_prefs)"
   ]
  },
  {
   "cell_type": "code",
   "execution_count": 3,
   "metadata": {
    "collapsed": false
   },
   "outputs": [
    {
     "data": {
      "text/plain": [
       "4-element Array{Array{Int64,N},1}:\n",
       " [3,1,2,0]\n",
       " [1,2,3,0]\n",
       " [3,2,1,0]\n",
       " [1,2,3,0]"
      ]
     },
     "execution_count": 3,
     "metadata": {},
     "output_type": "execute_result"
    }
   ],
   "source": [
    "prop_prefs=Array{Int}[[3,1,2,0],[1,2,3,0],[3,2,1,0],[1,2,3,0]]"
   ]
  },
  {
   "cell_type": "code",
   "execution_count": 3,
   "metadata": {
    "collapsed": false
   },
   "outputs": [
    {
     "data": {
      "text/plain": [
       "4×3 Array{Int64,2}:\n",
       " 3  1  2\n",
       " 1  2  3\n",
       " 3  2  1\n",
       " 1  2  3"
      ]
     },
     "execution_count": 3,
     "metadata": {},
     "output_type": "execute_result"
    }
   ],
   "source": [
    "prop_prefs = [3 1 2 ;\n",
    "              1 2 3 ;\n",
    "              3 2 1 ;\n",
    "              1 2 3 ]"
   ]
  },
  {
   "cell_type": "code",
   "execution_count": 5,
   "metadata": {
    "collapsed": false
   },
   "outputs": [
    {
     "data": {
      "text/plain": [
       "5×3 Array{Int64,2}:\n",
       " 4  4  4\n",
       " 1  1  2\n",
       " 3  2  1\n",
       " 2  3  3\n",
       " 0  0  0"
      ]
     },
     "execution_count": 5,
     "metadata": {},
     "output_type": "execute_result"
    }
   ],
   "source": [
    "resp_prefs = [4  4  4;\n",
    "              1  1  2;\n",
    "              3  2  1;\n",
    "              2  3  3;\n",
    "              0  0  0]"
   ]
  },
  {
   "cell_type": "code",
   "execution_count": 12,
   "metadata": {
    "collapsed": false
   },
   "outputs": [
    {
     "data": {
      "text/plain": [
       "3-element Array{Array{Int64,N},1}:\n",
       " [4,1,3,2,0]\n",
       " [4,1,2,3,0]\n",
       " [4,2,1,3,0]"
      ]
     },
     "execution_count": 12,
     "metadata": {},
     "output_type": "execute_result"
    }
   ],
   "source": [
    "resp_prefs = Array{Int}[[4,1,3,2,0],[4,1,2,3,0],[4,2,1,3,0]]"
   ]
  },
  {
   "cell_type": "code",
   "execution_count": 4,
   "metadata": {
    "collapsed": false
   },
   "outputs": [
    {
     "data": {
      "text/plain": [
       "3×4 Array{Int64,2}:\n",
       " 4  1  3  2\n",
       " 4  1  2  3\n",
       " 4  2  1  3"
      ]
     },
     "execution_count": 4,
     "metadata": {},
     "output_type": "execute_result"
    }
   ],
   "source": [
    "resp_prefs = [4 1 3 2 ;\n",
    "              4 1 2 3 ;\n",
    "              4 2 1 3 ]"
   ]
  },
  {
   "cell_type": "code",
   "execution_count": 9,
   "metadata": {
    "collapsed": false
   },
   "outputs": [
    {
     "data": {
      "text/plain": [
       "3"
      ]
     },
     "execution_count": 9,
     "metadata": {},
     "output_type": "execute_result"
    }
   ],
   "source": [
    "size(resp_prefs, 1)"
   ]
  },
  {
   "cell_type": "code",
   "execution_count": 5,
   "metadata": {
    "collapsed": false
   },
   "outputs": [
    {
     "data": {
      "text/plain": [
       "3-element Array{Int64,1}:\n",
       " 2\n",
       " 3\n",
       " 2"
      ]
     },
     "execution_count": 5,
     "metadata": {},
     "output_type": "execute_result"
    }
   ],
   "source": [
    "caps = [2,3,2]"
   ]
  },
  {
   "cell_type": "code",
   "execution_count": 1,
   "metadata": {
    "collapsed": false
   },
   "outputs": [
    {
     "data": {
      "text/plain": [
       "42-element Array{Int64,1}:\n",
       " 5\n",
       " 1\n",
       " 0\n",
       " 2\n",
       " 3\n",
       " 4\n",
       " 2\n",
       " 5\n",
       " 1\n",
       " 0\n",
       " 3\n",
       " 4\n",
       " 3\n",
       " ⋮\n",
       " 1\n",
       " 3\n",
       " 0\n",
       " 2\n",
       " 4\n",
       " 5\n",
       " 1\n",
       " 3\n",
       " 4\n",
       " 0\n",
       " 2\n",
       " 6"
      ]
     },
     "execution_count": 1,
     "metadata": {},
     "output_type": "execute_result"
    }
   ],
   "source": [
    "s_prefs = [\n",
    "        5, 1, 0, 2, 3, 4,\n",
    "        2, 5, 1, 0, 3, 4,\n",
    "        3, 1, 0, 2, 4, 5,\n",
    "        4, 1, 0, 2, 3, 5,\n",
    "        1, 2, 0, 3, 4, 5,\n",
    "        1, 3, 0, 2, 4, 5,\n",
    "        1, 3, 4, 0, 2, 6,\n",
    "    ]"
   ]
  },
  {
   "cell_type": "code",
   "execution_count": 4,
   "metadata": {
    "collapsed": false
   },
   "outputs": [
    {
     "data": {
      "text/plain": [
       "mat2vecs (generic function with 1 method)"
      ]
     },
     "execution_count": 4,
     "metadata": {},
     "output_type": "execute_result"
    }
   ],
   "source": [
    "function mat2vecs{T<:Integer}(prefs::Matrix{T})\n",
    "    return [prefs[1:findfirst(prefs[:, j], 0)-1, j] for j in 1:size(prefs, 2)]\n",
    "end"
   ]
  },
  {
   "cell_type": "code",
   "execution_count": 3,
   "metadata": {
    "collapsed": false
   },
   "outputs": [
    {
     "ename": "LoadError",
     "evalue": "MethodError: no method matching mat2vecs(::Array{Int64,1})\u001b[0m\nClosest candidates are:\n  mat2vecs{T<:Integer}(\u001b[1m\u001b[31m::Array{T<:Integer,2}\u001b[0m) at In[2]:2\u001b[0m",
     "output_type": "error",
     "traceback": [
      "MethodError: no method matching mat2vecs(::Array{Int64,1})\u001b[0m\nClosest candidates are:\n  mat2vecs{T<:Integer}(\u001b[1m\u001b[31m::Array{T<:Integer,2}\u001b[0m) at In[2]:2\u001b[0m",
      ""
     ]
    }
   ],
   "source": [
    "mat2vecs(s_prefs)"
   ]
  },
  {
   "cell_type": "code",
   "execution_count": 4,
   "metadata": {
    "collapsed": false
   },
   "outputs": [
    {
     "data": {
      "text/plain": [
       "mat2vecs (generic function with 1 method)"
      ]
     },
     "execution_count": 4,
     "metadata": {},
     "output_type": "execute_result"
    }
   ],
   "source": [
    "function mat2vecs{T<:Integer}(prefs::Matrix{T})\n",
    "    return [prefs[1:findfirst(prefs[:, j], 0)-1, j] for j in 1:size(prefs, 2)]\n",
    "end"
   ]
  },
  {
   "cell_type": "code",
   "execution_count": 5,
   "metadata": {
    "collapsed": false
   },
   "outputs": [
    {
     "data": {
      "text/plain": [
       "4×4 Array{Int64,2}:\n",
       " 1  3  2  3\n",
       " 2  1  3  1\n",
       " 3  2  1  2\n",
       " 0  0  0  0"
      ]
     },
     "execution_count": 5,
     "metadata": {},
     "output_type": "execute_result"
    }
   ],
   "source": [
    "m_prefs = [1 3 2 3;\n",
    "               2 1 3 1;\n",
    "               3 2 1 2;\n",
    "               0 0 0 0]"
   ]
  },
  {
   "cell_type": "code",
   "execution_count": 6,
   "metadata": {
    "collapsed": false
   },
   "outputs": [
    {
     "data": {
      "text/plain": [
       "4-element Array{Array{Int64,1},1}:\n",
       " [1,2,3]\n",
       " [3,1,2]\n",
       " [2,3,1]\n",
       " [3,1,2]"
      ]
     },
     "execution_count": 6,
     "metadata": {},
     "output_type": "execute_result"
    }
   ],
   "source": [
    "mat2vecs(m_prefs)"
   ]
  },
  {
   "cell_type": "code",
   "execution_count": 7,
   "metadata": {
    "collapsed": false
   },
   "outputs": [
    {
     "data": {
      "text/plain": [
       "5×5 Array{Int64,2}:\n",
       " 1  2  3  4  0\n",
       " 4  2  3  1  0\n",
       " 4  3  1  2  0\n",
       " 1  4  3  2  0\n",
       " 1  2  4  0  3"
      ]
     },
     "execution_count": 7,
     "metadata": {},
     "output_type": "execute_result"
    }
   ],
   "source": [
    "m_prefs = [\n",
    "        1 2 3 4 0;\n",
    "        4 2 3 1 0;\n",
    "        4 3 1 2 0;\n",
    "        1 4 3 2 0;\n",
    "        1 2 4 0 3\n",
    "    ]"
   ]
  },
  {
   "cell_type": "code",
   "execution_count": 8,
   "metadata": {
    "collapsed": false
   },
   "outputs": [
    {
     "data": {
      "text/plain": [
       "4×5 Array{Int64,2}:\n",
       " 2  3  1  4  5\n",
       " 3  1  2  4  5\n",
       " 5  4  1  2  3\n",
       " 1  4  5  2  3"
      ]
     },
     "execution_count": 8,
     "metadata": {},
     "output_type": "execute_result"
    }
   ],
   "source": [
    "f_prefs = [\n",
    "        2 3 1 4 5;\n",
    "        3 1 2 4 5;\n",
    "        5 4 1 2 3;\n",
    "        1 4 5 2 3\n",
    "    ]"
   ]
  },
  {
   "cell_type": "code",
   "execution_count": 9,
   "metadata": {
    "collapsed": false
   },
   "outputs": [
    {
     "ename": "LoadError",
     "evalue": "UndefVarError: deferred_acceptance not defined",
     "output_type": "error",
     "traceback": [
      "UndefVarError: deferred_acceptance not defined",
      ""
     ]
    }
   ],
   "source": [
    "deferred_acceptance(m_prefs,f_prefs)"
   ]
  },
  {
   "cell_type": "code",
   "execution_count": 14,
   "metadata": {
    "collapsed": false
   },
   "outputs": [
    {
     "name": "stderr",
     "output_type": "stream",
     "text": [
      "WARNING: Method definition deferred_acceptance(Array{Array{Int64, 1}, 1}, Array{Array{Int64, 1}, 1}, Array{Int64, 1}) in module Main at In[12]:2 overwritten at In[14]:2.\n"
     ]
    },
    {
     "data": {
      "text/plain": [
       "deferred_acceptance (generic function with 2 methods)"
      ]
     },
     "execution_count": 14,
     "metadata": {},
     "output_type": "execute_result"
    }
   ],
   "source": [
    "function deferred_acceptance(m_prefs::Vector{Vector{Int}},f_prefs::Vector{Vector{Int}},caps::Vector{Int})\n",
    "    m = length(m_prefs)\n",
    "    n = length(f_prefs)\n",
    "    prop_prefs = zeros(Int,m,n+1)\n",
    "    resp_prefs = zeros(Int,n,m+1)\n",
    "    \n",
    "    for male in 1:m\n",
    "        num = length(m_prefs[male])\n",
    "        for p in 1:num\n",
    "            prop_prefs[male,p] = m_prefs[male][p]\n",
    "        end\n",
    "    end\n",
    "    for fem in 1:n\n",
    "        numf = length(f_prefs[fem])\n",
    "        for q in 1:numf\n",
    "            resp_prefs[fem,q] = f_prefs[fem][q]\n",
    "        end\n",
    "    end\n",
    "\n",
    "#    prop_matches, resp_matches, indptr = deferred_acceptance(prop_prefs, resp_prefs, caps)\n",
    "\n",
    "#    return prop_matches,resp_matches,indptr\n",
    "    return prop_prefs, resp_prefs, caps\n",
    "end"
   ]
  },
  {
   "cell_type": "code",
   "execution_count": 5,
   "metadata": {
    "collapsed": false
   },
   "outputs": [
    {
     "data": {
      "text/plain": [
       "6×11 Array{Int64,2}:\n",
       " 3  1  4  3  1  4  2  1  4  3  5\n",
       " 1  3  5  4  4  3  5  3  1  1  4\n",
       " 5  4  3  1  2  2  1  2  5  5  1\n",
       " 4  2  1  5  0  1  3  5  0  2  3\n",
       " 0  5  2  0  3  5  0  4  2  4  2\n",
       " 2  0  0  2  5  0  4  0  3  0  0"
      ]
     },
     "execution_count": 5,
     "metadata": {},
     "output_type": "execute_result"
    }
   ],
   "source": [
    "s_prefs = [3, 1, 5, 4, 0, 2,\n",
    "               1, 3, 4, 2, 5, 0,\n",
    "               4, 5, 3, 1, 2, 0,\n",
    "               3, 4, 1, 5, 0, 2,\n",
    "               1, 4, 2, 0, 3, 5,\n",
    "               4, 3, 2, 1, 5, 0,\n",
    "               2, 5, 1, 3, 0, 4,\n",
    "               1, 3, 2, 5, 4, 0,\n",
    "               4, 1, 5, 0, 2, 3,\n",
    "               3, 1, 5, 2, 4, 0,\n",
    "               5, 4, 1, 3, 2, 0]\n",
    "    s_prefs = reshape(s_prefs, 6,11)"
   ]
  },
  {
   "cell_type": "code",
   "execution_count": 6,
   "metadata": {
    "collapsed": false
   },
   "outputs": [
    {
     "data": {
      "text/plain": [
       "11-element Array{Array{Int64,1},1}:\n",
       " [3,1,5,4]  \n",
       " [1,3,4,2,5]\n",
       " [4,5,3,1,2]\n",
       " [3,4,1,5]  \n",
       " [1,4,2]    \n",
       " [4,3,2,1,5]\n",
       " [2,5,1,3]  \n",
       " [1,3,2,5,4]\n",
       " [4,1,5]    \n",
       " [3,1,5,2,4]\n",
       " [5,4,1,3,2]"
      ]
     },
     "execution_count": 6,
     "metadata": {},
     "output_type": "execute_result"
    }
   ],
   "source": [
    "s_prefs = mat2vecs(s_prefs)"
   ]
  },
  {
   "cell_type": "code",
   "execution_count": 7,
   "metadata": {
    "collapsed": false
   },
   "outputs": [
    {
     "data": {
      "text/plain": [
       "12×5 Array{Int64,2}:\n",
       "  3   5  11  10   2\n",
       "  7   7   6   1   4\n",
       "  9  10   8   2  10\n",
       " 11   6   3  11   7\n",
       "  5   8   2   4   6\n",
       "  4   2   4   9   1\n",
       " 10   3   7   5   8\n",
       "  8  11   1   3   3\n",
       "  6   0  10   6  11\n",
       "  1   1   0   8   9\n",
       "  2   4   5   0   0\n",
       "  0   9   9   7   5"
      ]
     },
     "execution_count": 7,
     "metadata": {},
     "output_type": "execute_result"
    }
   ],
   "source": [
    "c_prefs = [3, 7, 9, 11, 5, 4, 10, 8, 6, 1,\n",
    "               2, 0, 5, 7, 10, 6, 8, 2, 3, 11,\n",
    "               0, 1, 4, 9, 11, 6, 8, 3, 2, 4,\n",
    "               7, 1, 10, 0, 5, 9, 10, 1, 2, 11,\n",
    "               4, 9, 5, 3, 6, 8, 0, 7, 2, 4,\n",
    "               10, 7, 6, 1, 8, 3, 11, 9, 0, 5]\n",
    "    c_prefs = reshape(c_prefs, 11+1, 5)"
   ]
  },
  {
   "cell_type": "code",
   "execution_count": 8,
   "metadata": {
    "collapsed": false
   },
   "outputs": [
    {
     "data": {
      "text/plain": [
       "5-element Array{Array{Int64,1},1}:\n",
       " [3,7,9,11,5,4,10,8,6,1,2]\n",
       " [5,7,10,6,8,2,3,11]      \n",
       " [11,6,8,3,2,4,7,1,10]    \n",
       " [10,1,2,11,4,9,5,3,6,8]  \n",
       " [2,4,10,7,6,1,8,3,11,9]  "
      ]
     },
     "execution_count": 8,
     "metadata": {},
     "output_type": "execute_result"
    }
   ],
   "source": [
    "c_prefs = mat2vecs(c_prefs)"
   ]
  },
  {
   "cell_type": "code",
   "execution_count": 11,
   "metadata": {
    "collapsed": false
   },
   "outputs": [
    {
     "data": {
      "text/plain": [
       "5-element Array{Int64,1}:\n",
       " 4\n",
       " 1\n",
       " 3\n",
       " 2\n",
       " 1"
      ]
     },
     "execution_count": 11,
     "metadata": {},
     "output_type": "execute_result"
    }
   ],
   "source": [
    "caps = [4, 1, 3, 2, 1]"
   ]
  },
  {
   "cell_type": "code",
   "execution_count": 12,
   "metadata": {
    "collapsed": false
   },
   "outputs": [
    {
     "ename": "LoadError",
     "evalue": "MethodError: no method matching deferred_acceptance(::Array{Array{Int64,1},1}, ::Array{Array{Int64,1},1}, ::Array{Int64,1})\u001b[0m\nClosest candidates are:\n  deferred_acceptance(::Array{Array{Int64,1},1}, ::Array{Array{Int64,1},1}) at In[4]:2\u001b[0m",
     "output_type": "error",
     "traceback": [
      "MethodError: no method matching deferred_acceptance(::Array{Array{Int64,1},1}, ::Array{Array{Int64,1},1}, ::Array{Int64,1})\u001b[0m\nClosest candidates are:\n  deferred_acceptance(::Array{Array{Int64,1},1}, ::Array{Array{Int64,1},1}) at In[4]:2\u001b[0m",
      ""
     ]
    }
   ],
   "source": [
    "deferred_acceptance(s_prefs, c_prefs, caps)"
   ]
  },
  {
   "cell_type": "code",
   "execution_count": 3,
   "metadata": {
    "collapsed": false
   },
   "outputs": [
    {
     "name": "stdout",
     "output_type": "stream",
     "text": [
      "\u001b[1m\u001b[37mone-to-one: Vector of Vectors: \u001b[0m\u001b[1m\u001b[31mError During Test\n",
      "\u001b[0m  Got an exception of type MethodError outside of a @test\n"
     ]
    },
    {
     "name": "stderr",
     "output_type": "stream",
     "text": [
      "WARNING: using MyMatchingA.deferred_acceptance in module Main conflicts with an existing identifier.\n"
     ]
    },
    {
     "name": "stdout",
     "output_type": "stream",
     "text": [
      "  MethodError: no method matching deferred_acceptance(::Array{Array{Int64,1},1}, ::Array{Array{Int64,1},1})\n",
      "   in macro expansion; at ./In[3]:207 [inlined]\n",
      "   in macro expansion; at ./test.jl:674 [inlined]\n",
      "   in macro expansion; at ./In[3]:201 [inlined]\n",
      "   in macro expansion; at ./test.jl:674 [inlined]\n",
      "   in anonymous at ./<missing>:?\n",
      "   in include_string(::String, ::String) at ./loading.jl:441\n",
      "   in execute_request(::ZMQ.Socket, ::IJulia.Msg) at /Users/sasakiakihiro/.julia/v0.5/IJulia/src/execute_request.jl:156\n",
      "   in eventloop(::ZMQ.Socket) at /Users/sasakiakihiro/.julia/v0.5/IJulia/src/eventloop.jl:8\n",
      "   in (::IJulia.##13#19)() at ./task.jl:360\n",
      "\u001b[1m\u001b[37mmany-to-one: Vector of Vectors: \u001b[0m\u001b[1m\u001b[31mError During Test\n",
      "\u001b[0m  Got an exception of type MethodError outside of a @test\n",
      "  MethodError: no method matching deferred_acceptance(::Array{Array{Int64,1},1}, ::Array{Array{Int64,1},1}, ::Array{Int64,1})\n",
      "   in macro expansion; at ./In[3]:223 [inlined]\n",
      "   in macro expansion; at ./test.jl:674 [inlined]\n",
      "   in macro expansion; at ./In[3]:218 [inlined]\n",
      "   in macro expansion; at ./test.jl:674 [inlined]\n",
      "   in anonymous at ./<missing>:?\n",
      "   in include_string(::String, ::String) at ./loading.jl:441\n",
      "   in execute_request(::ZMQ.Socket, ::IJulia.Msg) at /Users/sasakiakihiro/.julia/v0.5/IJulia/src/execute_request.jl:156\n",
      "   in eventloop(::ZMQ.Socket) at /Users/sasakiakihiro/.julia/v0.5/IJulia/src/eventloop.jl:8\n",
      "   in (::IJulia.##13#19)() at ./task.jl:360\n",
      "\u001b[1m\u001b[37mTest Summary:                    | \u001b[0m\u001b[1m\u001b[31mError  \u001b[0m\u001b[1m\u001b[34mTotal\u001b[0m\n",
      "  Testing deferred acceptance    | \u001b[1m\u001b[31m    2  \u001b[0m\u001b[1m\u001b[34m    2\u001b[0m\n",
      "  one-to-one: Vector of Vectors  | \u001b[1m\u001b[31m    1  \u001b[0m\u001b[1m\u001b[34m    1\u001b[0m\n",
      "  many-to-one: Vector of Vectors | \u001b[1m\u001b[31m    1  \u001b[0m\u001b[1m\u001b[34m    1\u001b[0m\n"
     ]
    },
    {
     "ename": "LoadError",
     "evalue": "Some tests did not pass: 0 passed, 0 failed, 2 errored, 0 broken.",
     "output_type": "error",
     "traceback": [
      "Some tests did not pass: 0 passed, 0 failed, 2 errored, 0 broken.",
      "",
      " in finish(::Base.Test.DefaultTestSet) at ./test.jl:498",
      " in macro expansion; at ./test.jl:681 [inlined]",
      " in anonymous at ./<missing>:?"
     ]
    }
   ],
   "source": [
    "using MyMatchingA\n",
    "using Base.Test\n",
    "\n",
    "const _deferred_acceptance = deferred_acceptance\n",
    "const test_matrix = false\n",
    "\n",
    "function mat2vecs{T<:Integer}(prefs::Matrix{T})\n",
    "    return [prefs[1:findfirst(prefs[:, j], 0)-1, j] for j in 1:size(prefs, 2)]\n",
    "end\n",
    "\n",
    "function sort_matches!{T<:Integer}(matches::Vector{T}, indptr::Vector{T})\n",
    "    for i in 1:length(indptr)-1\n",
    "        sort!(view(matches, indptr[i]:indptr[i+1]-1))\n",
    "    end\n",
    "end\n",
    "\n",
    "@testset \"Testing deferred acceptance\" begin\n",
    "    matchings_one_to_one = Array{Dict, 1}()\n",
    "    matchings_many_to_one = Array{Dict, 1}()\n",
    "\n",
    "    # Test case: one-to-one\n",
    "    m, n = 4, 3\n",
    "    # Males' preference orders over females [1, 2, 3] and unmatched 0\n",
    "    m_prefs = [1 3 2 3;\n",
    "               2 1 3 1;\n",
    "               3 2 1 2;\n",
    "               0 0 0 0]\n",
    "    # Females' preference orders over males [1, 2, 3, 4] and unmatched 0\n",
    "    f_prefs = [3 1 3;\n",
    "               1 2 0;\n",
    "               2 3 2;\n",
    "               4 4 1;\n",
    "               0 0 4]\n",
    "    # Unique stable matching\n",
    "    m_matches_m_opt = m_matches_f_opt = [1, 2, 3, 0]\n",
    "    f_matches_m_opt = f_matches_f_opt = [1, 2, 3]\n",
    "    d = Dict(\n",
    "        \"m_prefs\" => m_prefs,\n",
    "        \"f_prefs\" => f_prefs,\n",
    "        \"m_matches_m_opt\" => m_matches_m_opt,\n",
    "        \"f_matches_m_opt\" => f_matches_m_opt,\n",
    "        \"m_matches_f_opt\" => m_matches_f_opt,\n",
    "        \"f_matches_f_opt\" => f_matches_f_opt,\n",
    "    )\n",
    "    push!(matchings_one_to_one, d)\n",
    "\n",
    "    # Test case: one-to-one; from Roth and Sotomayor Example 2.9\n",
    "    m, n = 5, 4\n",
    "    m_prefs = [\n",
    "        1, 2, 3, 4, 0,\n",
    "        4, 2, 3, 1, 0,\n",
    "        4, 3, 1, 2, 0,\n",
    "        1, 4, 3, 2, 0,\n",
    "        1, 2, 4, 0, 3,\n",
    "    ]\n",
    "    m_prefs = reshape(m_prefs, n+1, m)\n",
    "    f_prefs = [\n",
    "        2, 3, 1, 4, 5, 0,\n",
    "        3, 1, 2, 4, 5, 0,\n",
    "        5, 4, 1, 2, 3, 0,\n",
    "        1, 4, 5, 2, 3, 0,\n",
    "    ]\n",
    "    f_prefs = reshape(f_prefs, m+1, n)\n",
    "    m_matches_m_opt, f_matches_m_opt = [1, 2, 3, 4, 0], [1, 2, 3, 4]\n",
    "    m_matches_f_opt, f_matches_f_opt = [4, 1, 2, 3, 0], [2, 3, 4, 1]\n",
    "    d = Dict(\n",
    "        \"m_prefs\" => m_prefs,\n",
    "        \"f_prefs\" => f_prefs,\n",
    "        \"m_matches_m_opt\" => m_matches_m_opt,\n",
    "        \"f_matches_m_opt\" => f_matches_m_opt,\n",
    "        \"m_matches_f_opt\" => m_matches_f_opt,\n",
    "        \"f_matches_f_opt\" => f_matches_f_opt,\n",
    "    )\n",
    "    push!(matchings_one_to_one, d)\n",
    "\n",
    "    # Test case: one-to-one; from Roth and Sotomayor Example 2.17\n",
    "    m = n = 4\n",
    "    m_prefs = [\n",
    "        1, 2, 3, 4, 0,\n",
    "        2, 1, 4, 3, 0,\n",
    "        3, 4, 1, 2, 0,\n",
    "        4, 3, 2, 1, 0,\n",
    "    ]\n",
    "    m_prefs = reshape(m_prefs, n+1, m)\n",
    "    f_prefs = [\n",
    "        4, 3, 2, 1, 0,\n",
    "        3, 4, 1, 2, 0,\n",
    "        2, 1, 4, 3, 0,\n",
    "        1, 2, 3, 4, 0,\n",
    "    ]\n",
    "    f_prefs = reshape(f_prefs, m+1, n)\n",
    "    m_matches_m_opt = f_matches_m_opt = [1, 2, 3, 4]\n",
    "    m_matches_f_opt = f_matches_f_opt = [4, 3, 2, 1]\n",
    "    d = Dict(\n",
    "        \"m_prefs\" => m_prefs,\n",
    "        \"f_prefs\" => f_prefs,\n",
    "        \"m_matches_m_opt\" => m_matches_m_opt,\n",
    "        \"f_matches_m_opt\" => f_matches_m_opt,\n",
    "        \"m_matches_f_opt\" => m_matches_f_opt,\n",
    "        \"f_matches_f_opt\" => f_matches_f_opt,\n",
    "    )\n",
    "    push!(matchings_one_to_one, d)\n",
    "\n",
    "    # Test case: many-to-one\n",
    "    # From Gusfield and Irving (1989, Section 1.6.5)\n",
    "\n",
    "    m = 11  # Number of students\n",
    "    n = 5   # Number of colleges\n",
    "\n",
    "    # Students' preference orders over colleges 1, ..., 5 and unmatched 0\n",
    "    s_prefs = [3, 1, 5, 4, 0, 2,\n",
    "               1, 3, 4, 2, 5, 0,\n",
    "               4, 5, 3, 1, 2, 0,\n",
    "               3, 4, 1, 5, 0, 2,\n",
    "               1, 4, 2, 0, 3, 5,\n",
    "               4, 3, 2, 1, 5, 0,\n",
    "               2, 5, 1, 3, 0, 4,\n",
    "               1, 3, 2, 5, 4, 0,\n",
    "               4, 1, 5, 0, 2, 3,\n",
    "               3, 1, 5, 2, 4, 0,\n",
    "               5, 4, 1, 3, 2, 0]\n",
    "    s_prefs = reshape(s_prefs, n+1, m)\n",
    "\n",
    "    # Colleges' preference orders over students 1, ..., 11 and unmatched 0\n",
    "    c_prefs = [3, 7, 9, 11, 5, 4, 10, 8, 6, 1,\n",
    "               2, 0, 5, 7, 10, 6, 8, 2, 3, 11,\n",
    "               0, 1, 4, 9, 11, 6, 8, 3, 2, 4,\n",
    "               7, 1, 10, 0, 5, 9, 10, 1, 2, 11,\n",
    "               4, 9, 5, 3, 6, 8, 0, 7, 2, 4,\n",
    "               10, 7, 6, 1, 8, 3, 11, 9, 0, 5]\n",
    "    c_prefs = reshape(c_prefs, m+1, n)\n",
    "\n",
    "    # Capacities for colleges\n",
    "    caps = [4, 1, 3, 2, 1]\n",
    "    indptr = [1, 5, 6, 9, 11, 12]\n",
    "\n",
    "    # Optimal stable matchings\n",
    "\n",
    "    # Student optimal\n",
    "    s_matches_s_opt = [3, 1, 4, 3, 1, 3, 2, 1, 4, 1, 5]\n",
    "    c_matches_s_opt = [2, 5, 8, 10, 7, 1, 4, 6, 3, 9, 11]\n",
    "\n",
    "    # Matching the book claims to be hospital-(or college-)optimal\n",
    "    # s_matches_c_opt = [4, 4, 3, 1, 1, 3, 2, 3, 1, 5, 1]\n",
    "    # c_matches_c_opt = [4, 5, 9, 11, 7, 3, 6, 8, 1, 2, 10]\n",
    "\n",
    "    # Matching actually hospital-(or college-)optimal\n",
    "    s_matches_c_opt = [4, 5, 3, 1, 1, 3, 2, 3, 1, 4, 1]\n",
    "    c_matches_c_opt = [4, 5, 9, 11, 7, 3, 6, 8, 1, 10, 2]\n",
    "\n",
    "    d = Dict(\n",
    "        \"s_prefs\" => s_prefs,\n",
    "        \"c_prefs\" => c_prefs,\n",
    "        \"caps\" => caps,\n",
    "        \"s_matches_s_opt\" => s_matches_s_opt,\n",
    "        \"c_matches_s_opt\" => c_matches_s_opt,\n",
    "        \"s_matches_c_opt\" => s_matches_c_opt,\n",
    "        \"c_matches_c_opt\" => c_matches_c_opt,\n",
    "        \"indptr\" => indptr,\n",
    "    )\n",
    "    push!(matchings_many_to_one, d)\n",
    "\n",
    "    # Test case: many-to-one; from Roth and Sotomayor Page 16\n",
    "    m, n = 7, 5\n",
    "    s_prefs = [\n",
    "        5, 1, 0, 2, 3, 4,\n",
    "        2, 5, 1, 0, 3, 4,\n",
    "        3, 1, 0, 2, 4, 5,\n",
    "        4, 1, 0, 2, 3, 5,\n",
    "        1, 2, 0, 3, 4, 5,\n",
    "        1, 3, 0, 2, 4, 5,\n",
    "        1, 3, 4, 0, 2, 6,\n",
    "    ]\n",
    "    s_prefs = reshape(s_prefs, n+1, m)\n",
    "    c_prefs = [\n",
    "        1, 2, 3, 4, 5, 6, 7, 0,\n",
    "        5, 2, 0, 1, 3, 4, 6, 7,\n",
    "        6, 7, 3, 0, 1, 2, 4, 5,\n",
    "        7, 4, 0, 1, 2, 3, 5, 6,\n",
    "        2, 1, 0, 3, 4, 5, 6, 7,\n",
    "    ]\n",
    "    c_prefs = reshape(c_prefs, m+1, n)\n",
    "    caps = [3, 1, 1, 1, 1]\n",
    "    indptr = [1, 4, 5, 6, 7,  8]\n",
    "    s_matches_s_opt = [5, 2, 3, 4, 1, 1, 1]\n",
    "    c_matches_s_opt = [5, 6, 7, 2, 3, 4, 1]\n",
    "    s_matches_c_opt = [1, 5, 1, 1, 2, 3, 4]\n",
    "    c_matches_c_opt = [1, 3, 4, 5, 6, 7, 2]\n",
    "    d = Dict(\n",
    "        \"s_prefs\" => s_prefs,\n",
    "        \"c_prefs\" => c_prefs,\n",
    "        \"caps\" => caps,\n",
    "        \"s_matches_s_opt\" => s_matches_s_opt,\n",
    "        \"c_matches_s_opt\" => c_matches_s_opt,\n",
    "        \"s_matches_c_opt\" => s_matches_c_opt,\n",
    "        \"c_matches_c_opt\" => c_matches_c_opt,\n",
    "        \"indptr\" => indptr,\n",
    "    )\n",
    "    push!(matchings_many_to_one, d)\n",
    "\n",
    "    @testset \"one-to-one: Vector of Vectors\" begin\n",
    "        for d in matchings_one_to_one\n",
    "            # Convert Matrix to Vector{Vector}\n",
    "            m_prefs, f_prefs = mat2vecs.([d[\"m_prefs\"], d[\"f_prefs\"]])\n",
    "\n",
    "            # Male proposal\n",
    "            m_matches, f_matches = _deferred_acceptance(m_prefs, f_prefs)\n",
    "            @test m_matches == d[\"m_matches_m_opt\"]\n",
    "            @test f_matches == d[\"f_matches_m_opt\"]\n",
    "\n",
    "            # Female proposal\n",
    "            f_matches, m_matches = _deferred_acceptance(f_prefs, m_prefs)\n",
    "            @test m_matches == d[\"m_matches_f_opt\"]\n",
    "            @test f_matches == d[\"f_matches_f_opt\"]\n",
    "        end\n",
    "    end\n",
    "\n",
    "    @testset \"many-to-one: Vector of Vectors\" begin\n",
    "        for d in matchings_many_to_one\n",
    "            s_prefs, c_prefs = mat2vecs.([d[\"s_prefs\"], d[\"c_prefs\"]])\n",
    "\n",
    "            # Default (Student proposal)\n",
    "            s_matches, c_matches, indptr =\n",
    "                _deferred_acceptance(s_prefs, c_prefs, d[\"caps\"])\n",
    "            sort_matches!(c_matches, indptr)\n",
    "            @test s_matches == d[\"s_matches_s_opt\"]\n",
    "            @test c_matches == d[\"c_matches_s_opt\"]\n",
    "            @test indptr == d[\"indptr\"]\n",
    "        end\n",
    "    end\n",
    "\n",
    "    if test_matrix\n",
    "        @testset \"one-to-one: Matrix\" begin\n",
    "            for d in matchings_one_to_one\n",
    "                m_prefs, f_prefs = d[\"m_prefs\"], d[\"f_prefs\"]\n",
    "\n",
    "                # Male proposal\n",
    "                m_matches, f_matches = _deferred_acceptance(m_prefs, f_prefs)\n",
    "                @test m_matches == d[\"m_matches_m_opt\"]\n",
    "                @test f_matches == d[\"f_matches_m_opt\"]\n",
    "\n",
    "                # Female proposal\n",
    "                f_matches, m_matches = _deferred_acceptance(f_prefs, m_prefs)\n",
    "                @test m_matches == d[\"m_matches_f_opt\"]\n",
    "                @test f_matches == d[\"f_matches_f_opt\"]\n",
    "            end\n",
    "        end\n",
    "\n",
    "        @testset \"many-to-one: Matrix\" begin\n",
    "            for d in matchings_many_to_one\n",
    "                s_prefs, c_prefs = d[\"s_prefs\"], d[\"c_prefs\"]\n",
    "\n",
    "                # Default (Student proposal)\n",
    "                s_matches, c_matches, indptr =\n",
    "                    _deferred_acceptance(s_prefs, c_prefs, d[\"caps\"])\n",
    "                sort_matches!(c_matches, indptr)\n",
    "                @test s_matches == d[\"s_matches_s_opt\"]\n",
    "                @test c_matches == d[\"c_matches_s_opt\"]\n",
    "                @test indptr == d[\"indptr\"]\n",
    "            end\n",
    "        end\n",
    "    end\n",
    "end"
   ]
  },
  {
   "cell_type": "code",
   "execution_count": 14,
   "metadata": {
    "collapsed": false
   },
   "outputs": [
    {
     "name": "stderr",
     "output_type": "stream",
     "text": [
      "WARNING: Method definition deferred_acceptance(Array{Array{Int64, 1}, 1}, Array{Array{Int64, 1}, 1}) in module Main at In[4]:2 overwritten at In[14]:2.\n"
     ]
    },
    {
     "data": {
      "text/plain": [
       "deferred_acceptance (generic function with 2 methods)"
      ]
     },
     "execution_count": 14,
     "metadata": {},
     "output_type": "execute_result"
    }
   ],
   "source": [
    "function deferred_acceptance(m_prefs::Vector{Vector{Int}},f_prefs::Vector{Vector{Int}})\n",
    "    m = length(m_prefs)\n",
    "    n = length(f_prefs)\n",
    "    prop_prefs = zeros(Int,m,n+1)\n",
    "    resp_prefs = zeros(Int,n,m+1)\n",
    "    \n",
    "    for male in 1:m\n",
    "        num = length(m_prefs[male])\n",
    "        for p in 1:num\n",
    "            prop_prefs[male,p] = m_prefs[male][p]\n",
    "        end\n",
    "    end\n",
    "    for fem in 1:n\n",
    "        numf = length(f_prefs[fem])\n",
    "        for q in 1:numf\n",
    "            resp_prefs[fem,q] = f_prefs[fem][q]\n",
    "        end\n",
    "    end\n",
    "    \n",
    "    caps = ones(Int, size(resp_prefs, 1))\n",
    "#    prop_matches, resp_matches, indptr =\n",
    "#        deferred_acceptance(prop_prefs, resp_prefs, caps)\n",
    "#    return prop_matches, resp_matches\n",
    "    return prop_prefs, resp_prefs,caps\n",
    "end"
   ]
  },
  {
   "cell_type": "code",
   "execution_count": 16,
   "metadata": {
    "collapsed": false
   },
   "outputs": [
    {
     "data": {
      "text/plain": [
       "Tuple{Array{Int64,2},Array{Int64,2},Array{Int64,1}}"
      ]
     },
     "execution_count": 16,
     "metadata": {},
     "output_type": "execute_result"
    }
   ],
   "source": [
    "typeof(deferred_acceptance(s_prefs, c_prefs))"
   ]
  },
  {
   "cell_type": "code",
   "execution_count": null,
   "metadata": {
    "collapsed": true
   },
   "outputs": [],
   "source": []
  }
 ],
 "metadata": {
  "kernelspec": {
   "display_name": "Julia 0.5.1",
   "language": "julia",
   "name": "julia-0.5"
  },
  "language_info": {
   "file_extension": ".jl",
   "mimetype": "application/julia",
   "name": "julia",
   "version": "0.5.1"
  }
 },
 "nbformat": 4,
 "nbformat_minor": 2
}

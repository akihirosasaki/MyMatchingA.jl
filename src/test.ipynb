{
 "cells": [
  {
   "cell_type": "markdown",
   "metadata": {},
   "source": [
    "ソースコード:https://github.com/akihirosasaki/MyMatchingA.jl/blob/master/src/MyMatchingA.jl"
   ]
  },
  {
   "cell_type": "code",
   "execution_count": 27,
   "metadata": {
    "collapsed": false,
    "scrolled": true
   },
   "outputs": [
    {
     "name": "stderr",
     "output_type": "stream",
     "text": [
      "\u001b[1m\u001b[34mINFO: Checking out MyMatchingA master...\n",
      "\u001b[0m\u001b[1m\u001b[34mINFO: Pulling MyMatchingA latest master...\n",
      "\u001b[0m\u001b[1m\u001b[34mINFO: No packages to install, update or remove\n",
      "\u001b[0m"
     ]
    }
   ],
   "source": [
    "Pkg.checkout(\"MyMatchingA\")"
   ]
  },
  {
   "cell_type": "code",
   "execution_count": 28,
   "metadata": {
    "collapsed": false
   },
   "outputs": [
    {
     "name": "stderr",
     "output_type": "stream",
     "text": [
      "\u001b[1m\u001b[34mINFO: Testing MyMatchingA\n",
      "\u001b[0m"
     ]
    },
    {
     "name": "stdout",
     "output_type": "stream",
     "text": [
      "\u001b[1m\u001b[37mTest Summary:               | \u001b[0m\u001b[1m\u001b[32mPass  \u001b[0m\u001b[1m\u001b[34mTotal\u001b[0m\n",
      "  Testing deferred acceptance | \u001b[1m\u001b[32m  18  \u001b[0m\u001b[1m\u001b[34m   18\u001b[0m\n"
     ]
    },
    {
     "name": "stderr",
     "output_type": "stream",
     "text": [
      "\u001b[1m\u001b[34mINFO: MyMatchingA tests passed\n",
      "\u001b[0m"
     ]
    }
   ],
   "source": [
    "Pkg.test(\"MyMatchingA\")"
   ]
  },
  {
   "cell_type": "code",
   "execution_count": 29,
   "metadata": {
    "collapsed": false,
    "scrolled": true
   },
   "outputs": [],
   "source": [
    "using MyMatchingA"
   ]
  },
  {
   "cell_type": "code",
   "execution_count": 30,
   "metadata": {
    "collapsed": false
   },
   "outputs": [
    {
     "name": "stderr",
     "output_type": "stream",
     "text": [
      "WARNING: Method definition random_prefs(Base.Random.AbstractRNG, Integer, Integer) in module Main at /Users/sasakiakihiro/MyMatchingA.jl/src/matching_tools.jl:108 overwritten at /Users/sasakiakihiro/MyMatchingA.jl/src/matching_tools.jl:108.\n",
      "WARNING: Method definition #random_prefs(Array{Any, 1}, Main.#random_prefs, Base.Random.AbstractRNG, Integer, Integer) in module Main overwritten.\n",
      "\u001b[1m\u001b[31mWARNING: replacing docs for 'random_prefs :: Tuple{AbstractRNG,Integer,Integer}' in module 'Main'.\u001b[0m\n",
      "WARNING: Method definition random_prefs(Integer, Integer) in module Main at /Users/sasakiakihiro/MyMatchingA.jl/src/matching_tools.jl:113 overwritten at /Users/sasakiakihiro/MyMatchingA.jl/src/matching_tools.jl:113.\n",
      "WARNING: Method definition #random_prefs(Array{Any, 1}, Main.#random_prefs, Integer, Integer) in module Main overwritten.\n",
      "WARNING: Method definition (::Type{Main.ReturnCaps})() in module Main at /Users/sasakiakihiro/MyMatchingA.jl/src/matching_tools.jl:116 overwritten at /Users/sasakiakihiro/MyMatchingA.jl/src/matching_tools.jl:116.\n",
      "WARNING: Method definition random_prefs(Base.Random.AbstractRNG, Integer, Integer, Type{Main.ReturnCaps}) in module Main at /Users/sasakiakihiro/MyMatchingA.jl/src/matching_tools.jl:121 overwritten at /Users/sasakiakihiro/MyMatchingA.jl/src/matching_tools.jl:121.\n",
      "WARNING: Method definition #random_prefs(Array{Any, 1}, Main.#random_prefs, Base.Random.AbstractRNG, Integer, Integer, Type{Main.ReturnCaps}) in module Main overwritten.\n",
      "WARNING: Method definition random_prefs(Integer, Integer, Type{Main.ReturnCaps}) in module Main at /Users/sasakiakihiro/MyMatchingA.jl/src/matching_tools.jl:134 overwritten at /Users/sasakiakihiro/MyMatchingA.jl/src/matching_tools.jl:134.\n",
      "WARNING: Method definition #random_prefs(Array{Any, 1}, Main.#random_prefs, Integer, Integer, Type{Main.ReturnCaps}) in module Main overwritten.\n",
      "WARNING: Method definition _random_prefs(Base.Random.AbstractRNG, Integer, Integer) in module Main at /Users/sasakiakihiro/MyMatchingA.jl/src/matching_tools.jl:140 overwritten at /Users/sasakiakihiro/MyMatchingA.jl/src/matching_tools.jl:140.\n",
      "WARNING: Method definition _random_unmatched!(Base.Random.AbstractRNG, Array{Int64, 2}, Array{Int64, 1}) in module Main at /Users/sasakiakihiro/MyMatchingA.jl/src/matching_tools.jl:152 overwritten at /Users/sasakiakihiro/MyMatchingA.jl/src/matching_tools.jl:152.\n",
      "WARNING: Method definition _random_prefs(Base.Random.AbstractRNG, Integer, Integer, Bool) in module Main at /Users/sasakiakihiro/MyMatchingA.jl/src/matching_tools.jl:163 overwritten at /Users/sasakiakihiro/MyMatchingA.jl/src/matching_tools.jl:163.\n",
      "WARNING: Method definition _random_caps(Base.Random.AbstractRNG, Array{Int64, 1}) in module Main at /Users/sasakiakihiro/MyMatchingA.jl/src/matching_tools.jl:175 overwritten at /Users/sasakiakihiro/MyMatchingA.jl/src/matching_tools.jl:175.\n",
      "WARNING: Method definition _random_caps(Base.Random.AbstractRNG, Int64, Int64) in module Main at /Users/sasakiakihiro/MyMatchingA.jl/src/matching_tools.jl:185 overwritten at /Users/sasakiakihiro/MyMatchingA.jl/src/matching_tools.jl:185.\n",
      "WARNING: Method definition rand_lt(Base.Random.AbstractRNG, Int64) in module Main at /Users/sasakiakihiro/MyMatchingA.jl/src/matching_tools.jl:199 overwritten at /Users/sasakiakihiro/MyMatchingA.jl/src/matching_tools.jl:199.\n",
      "WARNING: Method definition rand_lt(Base.Random.AbstractRNG, Int64, Int64) in module Main at /Users/sasakiakihiro/MyMatchingA.jl/src/matching_tools.jl:199 overwritten at /Users/sasakiakihiro/MyMatchingA.jl/src/matching_tools.jl:199.\n",
      "\u001b[1m\u001b[31mWARNING: replacing docs for 'rand_lt :: Union{Tuple{AbstractRNG,Int64,Int64},Tuple{AbstractRNG,Int64}}' in module 'Main'.\u001b[0m\n",
      "WARNING: Method definition _randperm!(Base.Random.AbstractRNG, AbstractArray{#T<:Integer, 1}) in module Main at /Users/sasakiakihiro/MyMatchingA.jl/src/matching_tools.jl:212 overwritten at /Users/sasakiakihiro/MyMatchingA.jl/src/matching_tools.jl:212.\n",
      "WARNING: Method definition _randperm2d!(Base.Random.AbstractRNG, AbstractArray{#T<:Integer, 2}) in module Main at /Users/sasakiakihiro/MyMatchingA.jl/src/matching_tools.jl:236 overwritten at /Users/sasakiakihiro/MyMatchingA.jl/src/matching_tools.jl:236.\n"
     ]
    },
    {
     "data": {
      "text/plain": [
       "_randperm2d!"
      ]
     },
     "execution_count": 30,
     "metadata": {},
     "output_type": "execute_result"
    }
   ],
   "source": [
    "include(\"matching_tools.jl\")"
   ]
  },
  {
   "cell_type": "code",
   "execution_count": 31,
   "metadata": {
    "collapsed": false
   },
   "outputs": [
    {
     "name": "stderr",
     "output_type": "stream",
     "text": [
      "\u001b[1m\u001b[31mWARNING: sub is deprecated, use view instead.\u001b[0m\n",
      " in depwarn(::String, ::Symbol) at ./deprecated.jl:64\n",
      " in sub(::Array{Int64,2}, ::Vararg{Any,N}) at ./deprecated.jl:30\n",
      " in _random_prefs(::MersenneTwister, ::Int64, ::Int64) at /Users/sasakiakihiro/MyMatchingA.jl/src/matching_tools.jl:145\n",
      " in _random_prefs(::MersenneTwister, ::Int64, ::Int64, ::Bool) at /Users/sasakiakihiro/MyMatchingA.jl/src/matching_tools.jl:163\n",
      " in #random_prefs#9(::Bool, ::Function, ::MersenneTwister, ::Int64, ::Int64, ::Type{ReturnCaps}) at /Users/sasakiakihiro/MyMatchingA.jl/src/matching_tools.jl:121\n",
      " in (::#kw##random_prefs)(::Array{Any,1}, ::#random_prefs, ::MersenneTwister, ::Int64, ::Int64, ::Type{ReturnCaps}) at ./<missing>:0 (repeats 2 times)\n",
      " in include_string(::String, ::String) at ./loading.jl:441\n",
      " in execute_request(::ZMQ.Socket, ::IJulia.Msg) at /Users/sasakiakihiro/.julia/v0.5/IJulia/src/execute_request.jl:156\n",
      " in eventloop(::ZMQ.Socket) at /Users/sasakiakihiro/.julia/v0.5/IJulia/src/eventloop.jl:8\n",
      " in (::IJulia.##13#19)() at ./task.jl:360\n",
      "while loading In[31], in expression starting on line 1\n",
      "\u001b[1m\u001b[31mWARNING: sub is deprecated, use view instead.\u001b[0m\n",
      " in depwarn(::String, ::Symbol) at ./deprecated.jl:64\n",
      " in sub(::SubArray{Int64,2,Array{Int64,2},Tuple{UnitRange{Int64},Colon},false}, ::Vararg{Any,N}) at ./deprecated.jl:30\n",
      " in _randperm2d!(::MersenneTwister, ::SubArray{Int64,2,Array{Int64,2},Tuple{UnitRange{Int64},Colon},false}) at /Users/sasakiakihiro/MyMatchingA.jl/src/matching_tools.jl:238\n",
      " in _random_prefs(::MersenneTwister, ::Int64, ::Int64) at /Users/sasakiakihiro/MyMatchingA.jl/src/matching_tools.jl:145\n",
      " in _random_prefs(::MersenneTwister, ::Int64, ::Int64, ::Bool) at /Users/sasakiakihiro/MyMatchingA.jl/src/matching_tools.jl:163\n",
      " in #random_prefs#9(::Bool, ::Function, ::MersenneTwister, ::Int64, ::Int64, ::Type{ReturnCaps}) at /Users/sasakiakihiro/MyMatchingA.jl/src/matching_tools.jl:121\n",
      " in (::#kw##random_prefs)(::Array{Any,1}, ::#random_prefs, ::MersenneTwister, ::Int64, ::Int64, ::Type{ReturnCaps}) at ./<missing>:0 (repeats 2 times)\n",
      " in include_string(::String, ::String) at ./loading.jl:441\n",
      " in execute_request(::ZMQ.Socket, ::IJulia.Msg) at /Users/sasakiakihiro/.julia/v0.5/IJulia/src/execute_request.jl:156\n",
      " in eventloop(::ZMQ.Socket) at /Users/sasakiakihiro/.julia/v0.5/IJulia/src/eventloop.jl:8\n",
      " in (::IJulia.##13#19)() at ./task.jl:360\n",
      "while loading In[31], in expression starting on line 1\n"
     ]
    }
   ],
   "source": [
    "prop_prefs, resp_prefs, caps = random_prefs(4, 3, ReturnCaps, allow_unmatched=false);"
   ]
  },
  {
   "cell_type": "code",
   "execution_count": 32,
   "metadata": {
    "collapsed": false
   },
   "outputs": [
    {
     "name": "stderr",
     "output_type": "stream",
     "text": [
      "WARNING: Method definition mat2vecs(Array{#T<:Integer, 2}) in module Main at In[22]:2 overwritten at In[32]:2.\n"
     ]
    },
    {
     "data": {
      "text/plain": [
       "mat2vecs (generic function with 1 method)"
      ]
     },
     "execution_count": 32,
     "metadata": {},
     "output_type": "execute_result"
    }
   ],
   "source": [
    "function mat2vecs{T<:Integer}(prefs::Matrix{T})\n",
    "    return [prefs[1:findfirst(prefs[:, j], 0)-1, j] for j in 1:size(prefs, 2)]\n",
    "end"
   ]
  },
  {
   "cell_type": "code",
   "execution_count": 33,
   "metadata": {
    "collapsed": false
   },
   "outputs": [
    {
     "data": {
      "text/plain": [
       "4×4 Array{Int64,2}:\n",
       " 1  3  2  1\n",
       " 3  2  3  3\n",
       " 2  1  1  2\n",
       " 0  0  0  0"
      ]
     },
     "execution_count": 33,
     "metadata": {},
     "output_type": "execute_result"
    }
   ],
   "source": [
    "prop_prefs"
   ]
  },
  {
   "cell_type": "code",
   "execution_count": 34,
   "metadata": {
    "collapsed": false
   },
   "outputs": [
    {
     "data": {
      "text/plain": [
       "4-element Array{Array{Int64,1},1}:\n",
       " [1,3,2]\n",
       " [3,2,1]\n",
       " [2,3,1]\n",
       " [1,3,2]"
      ]
     },
     "execution_count": 34,
     "metadata": {},
     "output_type": "execute_result"
    }
   ],
   "source": [
    "prop_prefs = mat2vecs(prop_prefs)"
   ]
  },
  {
   "cell_type": "code",
   "execution_count": 35,
   "metadata": {
    "collapsed": false
   },
   "outputs": [
    {
     "data": {
      "text/plain": [
       "5×3 Array{Int64,2}:\n",
       " 1  2  2\n",
       " 2  3  1\n",
       " 3  1  4\n",
       " 4  4  3\n",
       " 0  0  0"
      ]
     },
     "execution_count": 35,
     "metadata": {},
     "output_type": "execute_result"
    }
   ],
   "source": [
    "resp_prefs"
   ]
  },
  {
   "cell_type": "code",
   "execution_count": 36,
   "metadata": {
    "collapsed": false
   },
   "outputs": [
    {
     "data": {
      "text/plain": [
       "3-element Array{Array{Int64,1},1}:\n",
       " [1,2,3,4]\n",
       " [2,3,1,4]\n",
       " [2,1,4,3]"
      ]
     },
     "execution_count": 36,
     "metadata": {},
     "output_type": "execute_result"
    }
   ],
   "source": [
    "resp_prefs = mat2vecs(resp_prefs)"
   ]
  },
  {
   "cell_type": "code",
   "execution_count": 37,
   "metadata": {
    "collapsed": false
   },
   "outputs": [
    {
     "data": {
      "text/plain": [
       "3-element Array{Int64,1}:\n",
       " 4\n",
       " 3\n",
       " 3"
      ]
     },
     "execution_count": 37,
     "metadata": {},
     "output_type": "execute_result"
    }
   ],
   "source": [
    "caps"
   ]
  },
  {
   "cell_type": "code",
   "execution_count": 38,
   "metadata": {
    "collapsed": false
   },
   "outputs": [
    {
     "data": {
      "text/plain": [
       "([1,3,2,1],[1,4,0,0,3,0,0,2,0,0],[1,5,8,11])"
      ]
     },
     "execution_count": 38,
     "metadata": {},
     "output_type": "execute_result"
    }
   ],
   "source": [
    "deferred_acceptance(prop_prefs,resp_prefs,caps)"
   ]
  }
 ],
 "metadata": {
  "kernelspec": {
   "display_name": "Julia 0.5.1",
   "language": "julia",
   "name": "julia-0.5"
  },
  "language_info": {
   "file_extension": ".jl",
   "mimetype": "application/julia",
   "name": "julia",
   "version": "0.5.1"
  }
 },
 "nbformat": 4,
 "nbformat_minor": 2
}

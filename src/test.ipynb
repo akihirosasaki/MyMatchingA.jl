{
 "cells": [
  {
   "cell_type": "code",
   "execution_count": 1,
   "metadata": {
    "collapsed": false
   },
   "outputs": [
    {
     "name": "stderr",
     "output_type": "stream",
     "text": [
      "\u001b[1m\u001b[34mINFO: Checking out MyMatchingA master...\n",
      "\u001b[0m\u001b[1m\u001b[34mINFO: Pulling MyMatchingA latest master...\n",
      "\u001b[0m\u001b[1m\u001b[34mINFO: No packages to install, update or remove\n",
      "\u001b[0m"
     ]
    }
   ],
   "source": [
    "Pkg.checkout(\"MyMatchingA\")"
   ]
  },
  {
   "cell_type": "code",
   "execution_count": 2,
   "metadata": {
    "collapsed": false
   },
   "outputs": [
    {
     "name": "stderr",
     "output_type": "stream",
     "text": [
      "\u001b[1m\u001b[34mINFO: Testing MyMatchingA\n",
      "\u001b[0mWARNING: using MyMatchingA.my_deferred_acceptance in module Main conflicts with an existing identifier.\n"
     ]
    },
    {
     "name": "stdout",
     "output_type": "stream",
     "text": [
      "\u001b[1m\u001b[37mone-to-one: Vector of Vectors: \u001b[0m\u001b[1m\u001b[31mError During Test\n",
      "\u001b[0m  Got an exception of type MethodError outside of a @test\n",
      "  MethodError: no method matching my_deferred_acceptance(::Array{Array{Int64,1},1}, ::Array{Array{Int64,1},1}, ::Array{Int64,1})\u001b[0m\n",
      "  Closest candidates are:\n",
      "    my_deferred_acceptance(::Array{Array{Int64,1},1}, ::Array{Array{Int64,1},1}) at /Users/sasakiakihiro/.julia/v0.5/MyMatchingA/src/MyMatchingA.jl:99\u001b[0m\n",
      "   in my_deferred_acceptance(::Array{Array{Int64,1},1}, ::Array{Array{Int64,1},1}) at /Users/sasakiakihiro/.julia/v0.5/MyMatchingA/src/MyMatchingA.jl:100\n",
      "   in macro expansion; at /Users/sasakiakihiro/.julia/v0.5/MyMatchingA/test/runtests.jl:207 [inlined]\n",
      "   in macro expansion; at ./test.jl:674 [inlined]\n",
      "   in macro expansion; at /Users/sasakiakihiro/.julia/v0.5/MyMatchingA/test/runtests.jl:201 [inlined]\n",
      "   in macro expansion; at ./test.jl:674 [inlined]\n",
      "   in anonymous at ./<missing>:?\n",
      "   in include_from_node1(::String) at ./loading.jl:488\n",
      "   in include_from_node1(::String) at /Applications/Julia-0.5.app/Contents/Resources/julia/lib/julia/sys.dylib:?\n",
      "   in process_options(::Base.JLOptions) at ./client.jl:265\n",
      "   in _start() at ./client.jl:321\n",
      "   in _start() at /Applications/Julia-0.5.app/Contents/Resources/julia/lib/julia/sys.dylib:?\n",
      "\u001b[1m\u001b[37mmany-to-one: Vector of Vectors: \u001b[0m\u001b[1m\u001b[31mError During Test\n",
      "\u001b[0m  Got an exception of type MethodError outside of a @test\n",
      "  MethodError: no method matching my_deferred_acceptance(::Array{Array{Int64,1},1}, ::Array{Array{Int64,1},1}, ::Array{Int64,1})\u001b[0m\n",
      "  Closest candidates are:\n",
      "    my_deferred_acceptance(::Array{Array{Int64,1},1}, ::Array{Array{Int64,1},1}) at /Users/sasakiakihiro/.julia/v0.5/MyMatchingA/src/MyMatchingA.jl:99\u001b[0m\n",
      "   in macro expansion; at /Users/sasakiakihiro/.julia/v0.5/MyMatchingA/test/runtests.jl:223 [inlined]\n",
      "   in macro expansion; at ./test.jl:674 [inlined]\n",
      "   in macro expansion; at /Users/sasakiakihiro/.julia/v0.5/MyMatchingA/test/runtests.jl:218 [inlined]\n",
      "   in macro expansion; at ./test.jl:674 [inlined]\n",
      "   in anonymous at ./<missing>:?\n",
      "   in include_from_node1(::String) at ./loading.jl:488\n",
      "   in include_from_node1(::String) at /Applications/Julia-0.5.app/Contents/Resources/julia/lib/julia/sys.dylib:?\n",
      "   in process_options(::Base.JLOptions) at ./client.jl:265\n",
      "   in _start() at ./client.jl:321\n",
      "   in _start() at /Applications/Julia-0.5.app/Contents/Resources/julia/lib/julia/sys.dylib:?\n",
      "\u001b[1m\u001b[37mTest Summary:                    | \u001b[0m\u001b[1m\u001b[31mError  \u001b[0m\u001b[1m\u001b[34mTotal\u001b[0m\n",
      "  Testing deferred acceptance    | \u001b[1m\u001b[31m    2  \u001b[0m\u001b[1m\u001b[34m    2\u001b[0m\n",
      "  one-to-one: Vector of Vectors  | \u001b[1m\u001b[31m    1  \u001b[0m\u001b[1m\u001b[34m    1\u001b[0m\n",
      "  many-to-one: Vector of Vectors | \u001b[1m\u001b[31m    1  \u001b[0m\u001b[1m\u001b[34m    1\u001b[0m\n"
     ]
    },
    {
     "name": "stderr",
     "output_type": "stream",
     "text": [
      "\u001b[1m\u001b[31mERROR: LoadError: Some tests did not pass: 0 passed, 0 failed, 2 errored, 0 broken.\n",
      " in finish(::Base.Test.DefaultTestSet) at ./test.jl:498\n",
      " in macro expansion; at ./test.jl:681 [inlined]\n",
      " in anonymous at ./<missing>:?\n",
      " in include_from_node1(::String) at ./loading.jl:488\n",
      " in include_from_node1(::String) at /Applications/Julia-0.5.app/Contents/Resources/julia/lib/julia/sys.dylib:?\n",
      " in process_options(::Base.JLOptions) at ./client.jl:265\n",
      " in _start() at ./client.jl:321\n",
      " in _start() at /Applications/Julia-0.5.app/Contents/Resources/julia/lib/julia/sys.dylib:?\n",
      "while loading /Users/sasakiakihiro/.julia/v0.5/MyMatchingA/test/runtests.jl, in expression starting on line 17\n",
      "\u001b[0m\u001b[1m\u001b[31m=============================[ ERROR: MyMatchingA ]=============================\u001b[0m\n",
      "\n",
      "\u001b[1m\u001b[31mfailed process: Process(`/Applications/Julia-0.5.app/Contents/Resources/julia/bin/julia -Ccore2 -J/Applications/Julia-0.5.app/Contents/Resources/julia/lib/julia/sys.dylib --compile=yes --depwarn=yes --check-bounds=yes --code-coverage=none --color=yes --compilecache=yes /Users/sasakiakihiro/.julia/v0.5/MyMatchingA/test/runtests.jl`, ProcessExited(1)) [1]\u001b[0m\n",
      "\n",
      "\u001b[1m\u001b[31m================================================================================\u001b[0m\n"
     ]
    },
    {
     "ename": "LoadError",
     "evalue": "MyMatchingA had test errors",
     "output_type": "error",
     "traceback": [
      "MyMatchingA had test errors",
      "",
      " in #test#61(::Bool, ::Function, ::Array{AbstractString,1}) at ./pkg/entry.jl:749",
      " in (::Base.Pkg.Entry.#kw##test)(::Array{Any,1}, ::Base.Pkg.Entry.#test, ::Array{AbstractString,1}) at ./<missing>:0",
      " in (::Base.Pkg.Dir.##2#3{Array{Any,1},Base.Pkg.Entry.#test,Tuple{Array{AbstractString,1}}})() at ./pkg/dir.jl:31",
      " in cd(::Base.Pkg.Dir.##2#3{Array{Any,1},Base.Pkg.Entry.#test,Tuple{Array{AbstractString,1}}}, ::String) at ./file.jl:59",
      " in #cd#1(::Array{Any,1}, ::Function, ::Function, ::Array{AbstractString,1}, ::Vararg{Array{AbstractString,1},N}) at ./pkg/dir.jl:31",
      " in (::Base.Pkg.Dir.#kw##cd)(::Array{Any,1}, ::Base.Pkg.Dir.#cd, ::Function, ::Array{AbstractString,1}, ::Vararg{Array{AbstractString,1},N}) at ./<missing>:0",
      " in #test#3(::Bool, ::Function, ::String, ::Vararg{String,N}) at ./pkg/pkg.jl:258",
      " in test(::String, ::Vararg{String,N}) at ./pkg/pkg.jl:258"
     ]
    }
   ],
   "source": [
    "Pkg.test(\"MyMatchingA\")"
   ]
  },
  {
   "cell_type": "code",
   "execution_count": null,
   "metadata": {
    "collapsed": true
   },
   "outputs": [],
   "source": []
  }
 ],
 "metadata": {
  "kernelspec": {
   "display_name": "Julia 0.5.1",
   "language": "julia",
   "name": "julia-0.5"
  },
  "language_info": {
   "file_extension": ".jl",
   "mimetype": "application/julia",
   "name": "julia",
   "version": "0.5.1"
  }
 },
 "nbformat": 4,
 "nbformat_minor": 2
}

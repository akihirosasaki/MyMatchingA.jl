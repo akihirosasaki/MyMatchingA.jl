{
 "cells": [
  {
   "cell_type": "code",
   "execution_count": 1,
   "metadata": {
    "collapsed": false
   },
   "outputs": [
    {
     "data": {
      "text/plain": [
       "deferred_acceptance (generic function with 2 methods)"
      ]
     },
     "execution_count": 1,
     "metadata": {},
     "output_type": "execute_result"
    }
   ],
   "source": [
    "function deferred_acceptance(prop_prefs,resp_prefs,caps)\n",
    "\n",
    "    m = size(prop_prefs,2)\n",
    "    n = size(resp_prefs,2)\n",
    "    prop_matches = zeros(Int64,m)\n",
    "    L = sum(caps)\n",
    "    resp_matches = zeros(Int64,L)\n",
    "    unchanged_counter = 0\n",
    "    next_m_approach = ones(Int64,m)\n",
    "    \n",
    "    indptr = Array(Int,n+1)\n",
    "    indptr[1] = 1\n",
    "    for i in 1:n\n",
    "        indptr[i+1] = indptr[i] + caps[i]\n",
    "    end\n",
    "    \n",
    "    while unchanged_counter < m\n",
    "        unchanged_counter = 0\n",
    "        for i in 1:m\n",
    "            if prop_matches[i] == 0\n",
    "                j = prop_prefs[next_m_approach[i],i]\n",
    "                if j == 0\n",
    "                    prop_matches[i] = 0\n",
    "                    unchanged_counter += 1\n",
    "                    \n",
    "                else\n",
    "                    a=resp_matches[indptr[j]:indptr[j+1]-1]\n",
    "                    b=zeros(Int64,caps[j])\n",
    "                    for k in 1:caps[j]\n",
    "                        b[k] = findfirst(resp_prefs[:,j],a[k])\n",
    "                    end\n",
    "                    c = maximum(b)\n",
    "                    if c > findfirst(resp_prefs[:,j],i)\n",
    "                        prop_matches[i] = j\n",
    "                        r = findfirst(a,resp_prefs[c,d])\n",
    "                        if resp_matches[indptr[j]-1+r] != 0\n",
    "                            prop_matches[resp_prefs[c,d]] = 0\n",
    "                            next_m_approach[resp_prefs[c,d]] += 1\n",
    "                        end\n",
    "                        resp_matches[indptr[j]-1+r] = i\n",
    "                    else #Žó‚¯“ü‚ê‚È‚¢‚Æ‚«\n",
    "                        next_m_approach[i] += 1\n",
    "                    end\n",
    "                end\n",
    "            else unchanged_counter += 1 \n",
    "            end\n",
    "        end\n",
    "    end\n",
    "    return prop_matches,resp_matches,indptr\n",
    "end\n",
    "\n",
    "function deferred_acceptance(prop_prefs,resp_prefs)\n",
    "    caps = ones(Int, size(resp_prefs, 2))\n",
    "    prop_matches, resp_matches, indptr =\n",
    "        deferred_acceptance(prop_prefs, resp_prefs, caps)\n",
    "    return prop_matches, resp_matches\n",
    "end"
   ]
  },
  {
   "cell_type": "code",
   "execution_count": null,
   "metadata": {
    "collapsed": true
   },
   "outputs": [],
   "source": []
  },
  {
   "cell_type": "code",
   "execution_count": null,
   "metadata": {
    "collapsed": true
   },
   "outputs": [],
   "source": []
  }
 ],
 "metadata": {
  "kernelspec": {
   "display_name": "Julia 0.5.1",
   "language": "julia",
   "name": "julia-0.5"
  },
  "language_info": {
   "file_extension": ".jl",
   "mimetype": "application/julia",
   "name": "julia",
   "version": "0.5.1"
  }
 },
 "nbformat": 4,
 "nbformat_minor": 2
}

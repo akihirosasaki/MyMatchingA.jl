{
 "cells": [
  {
   "cell_type": "code",
   "execution_count": 4,
   "metadata": {
    "collapsed": false
   },
   "outputs": [],
   "source": [
    "using MyMatchingA"
   ]
  },
  {
   "cell_type": "code",
   "execution_count": 5,
   "metadata": {
    "collapsed": true
   },
   "outputs": [],
   "source": [
    "m, n = 5, 4;"
   ]
  },
  {
   "cell_type": "code",
   "execution_count": 13,
   "metadata": {
    "collapsed": false
   },
   "outputs": [
    {
     "data": {
      "text/plain": [
       "5×5 Array{Int64,2}:\n",
       " 1  2  3  4  0\n",
       " 4  2  3  1  0\n",
       " 4  3  1  2  0\n",
       " 1  4  3  2  0\n",
       " 1  2  4  0  3"
      ]
     },
     "execution_count": 13,
     "metadata": {},
     "output_type": "execute_result"
    }
   ],
   "source": [
    "m_prefs = [\n",
    "    1, 2, 3, 4, 0,\n",
    "    4, 2, 3, 1, 0,\n",
    "    4, 3, 1, 2, 0,\n",
    "    1, 4, 3, 2, 0,\n",
    "    1, 2, 4, 0, 3,\n",
    "]\n",
    "m_prefs = reshape(m_prefs, n+1, m)\n",
    "m_prefs = transpose(m_prefs)"
   ]
  },
  {
   "cell_type": "code",
   "execution_count": 14,
   "metadata": {
    "collapsed": false
   },
   "outputs": [
    {
     "data": {
      "text/plain": [
       "4×6 Array{Int64,2}:\n",
       " 2  3  1  4  5  0\n",
       " 3  1  2  4  5  0\n",
       " 5  4  1  2  3  0\n",
       " 1  4  5  2  3  0"
      ]
     },
     "execution_count": 14,
     "metadata": {},
     "output_type": "execute_result"
    }
   ],
   "source": [
    "f_prefs = [\n",
    "    2, 3, 1, 4, 5, 0,\n",
    "    3, 1, 2, 4, 5, 0,\n",
    "    5, 4, 1, 2, 3, 0,\n",
    "    1, 4, 5, 2, 3, 0,\n",
    "]\n",
    "f_prefs = reshape(f_prefs, m+1, n)\n",
    "f_prefs = transpose(f_prefs)"
   ]
  },
  {
   "cell_type": "code",
   "execution_count": 15,
   "metadata": {
    "collapsed": false
   },
   "outputs": [
    {
     "data": {
      "text/plain": [
       "([1,2,3,4,0],[1,2,3,4])"
      ]
     },
     "execution_count": 15,
     "metadata": {},
     "output_type": "execute_result"
    }
   ],
   "source": [
    "my_deferred_acceptance(m_prefs, f_prefs)"
   ]
  },
  {
   "cell_type": "code",
   "execution_count": 16,
   "metadata": {
    "collapsed": true
   },
   "outputs": [],
   "source": [
    "m = n = 4;"
   ]
  },
  {
   "cell_type": "code",
   "execution_count": 17,
   "metadata": {
    "collapsed": false
   },
   "outputs": [
    {
     "data": {
      "text/plain": [
       "4×5 Array{Int64,2}:\n",
       " 1  2  3  4  0\n",
       " 2  1  4  3  0\n",
       " 3  4  1  2  0\n",
       " 4  3  2  1  0"
      ]
     },
     "execution_count": 17,
     "metadata": {},
     "output_type": "execute_result"
    }
   ],
   "source": [
    "m_prefs = [\n",
    "    1, 2, 3, 4, 0,\n",
    "    2, 1, 4, 3, 0,\n",
    "    3, 4, 1, 2, 0,\n",
    "    4, 3, 2, 1, 0,\n",
    "]\n",
    "m_prefs = reshape(m_prefs, n+1, m)\n",
    "m_prefs = transpose(m_prefs)"
   ]
  },
  {
   "cell_type": "code",
   "execution_count": 18,
   "metadata": {
    "collapsed": false
   },
   "outputs": [
    {
     "data": {
      "text/plain": [
       "4×5 Array{Int64,2}:\n",
       " 4  3  2  1  0\n",
       " 3  4  1  2  0\n",
       " 2  1  4  3  0\n",
       " 1  2  3  4  0"
      ]
     },
     "execution_count": 18,
     "metadata": {},
     "output_type": "execute_result"
    }
   ],
   "source": [
    "f_prefs = [\n",
    "    4, 3, 2, 1, 0,\n",
    "    3, 4, 1, 2, 0,\n",
    "    2, 1, 4, 3, 0,\n",
    "    1, 2, 3, 4, 0,\n",
    "]\n",
    "f_prefs = reshape(f_prefs, m+1, n)\n",
    "f_prefs = transpose(f_prefs)"
   ]
  },
  {
   "cell_type": "code",
   "execution_count": 19,
   "metadata": {
    "collapsed": false
   },
   "outputs": [
    {
     "data": {
      "text/plain": [
       "([1,2,3,4],[1,2,3,4])"
      ]
     },
     "execution_count": 19,
     "metadata": {},
     "output_type": "execute_result"
    }
   ],
   "source": [
    "my_deferred_acceptance(m_prefs, f_prefs)"
   ]
  },
  {
   "cell_type": "code",
   "execution_count": 20,
   "metadata": {
    "collapsed": false
   },
   "outputs": [
    {
     "data": {
      "text/plain": [
       "([4,3,2,1],[4,3,2,1])"
      ]
     },
     "execution_count": 20,
     "metadata": {},
     "output_type": "execute_result"
    }
   ],
   "source": [
    "my_deferred_acceptance(f_prefs, m_prefs)"
   ]
  },
  {
   "cell_type": "code",
   "execution_count": 22,
   "metadata": {
    "collapsed": false
   },
   "outputs": [
    {
     "data": {
      "text/plain": [
       "4-element Array{Int64,1}:\n",
       " 2\n",
       " 2\n",
       " 2\n",
       " 2"
      ]
     },
     "execution_count": 22,
     "metadata": {},
     "output_type": "execute_result"
    }
   ],
   "source": [
    "m_caps = fill(2, m)\n",
    "f_caps = m_caps"
   ]
  },
  {
   "cell_type": "code",
   "execution_count": 24,
   "metadata": {
    "collapsed": false
   },
   "outputs": [
    {
     "data": {
      "text/plain": [
       "4-element Array{Int64,1}:\n",
       " 2\n",
       " 2\n",
       " 2\n",
       " 2"
      ]
     },
     "execution_count": 24,
     "metadata": {},
     "output_type": "execute_result"
    }
   ],
   "source": [
    "m_caps"
   ]
  },
  {
   "cell_type": "code",
   "execution_count": 23,
   "metadata": {
    "collapsed": false
   },
   "outputs": [
    {
     "data": {
      "text/plain": [
       "([1,2,2,1,3,4,4,3],[1,2,1,2,3,4,3,4],[1,3,5,7,9],[1,3,5,7,9])"
      ]
     },
     "execution_count": 23,
     "metadata": {},
     "output_type": "execute_result"
    }
   ],
   "source": [
    "my_deferred_acceptance(m_prefs, f_prefs, m_caps, f_caps)"
   ]
  },
  {
   "cell_type": "code",
   "execution_count": 25,
   "metadata": {
    "collapsed": true
   },
   "outputs": [],
   "source": [
    "m, n = 7, 5;"
   ]
  },
  {
   "cell_type": "code",
   "execution_count": 26,
   "metadata": {
    "collapsed": false
   },
   "outputs": [
    {
     "data": {
      "text/plain": [
       "7×6 Array{Int64,2}:\n",
       " 5  1  0  2  3  4\n",
       " 2  5  1  0  3  4\n",
       " 3  1  0  2  4  5\n",
       " 4  1  0  2  3  5\n",
       " 1  2  0  3  4  5\n",
       " 1  3  0  2  4  5\n",
       " 1  3  4  0  2  6"
      ]
     },
     "execution_count": 26,
     "metadata": {},
     "output_type": "execute_result"
    }
   ],
   "source": [
    "s_prefs = [\n",
    "    5, 1, 0, 2, 3, 4,\n",
    "    2, 5, 1, 0, 3, 4,\n",
    "    3, 1, 0, 2, 4, 5,\n",
    "    4, 1, 0, 2, 3, 5,\n",
    "    1, 2, 0, 3, 4, 5,\n",
    "    1, 3, 0, 2, 4, 5,\n",
    "    1, 3, 4, 0, 2, 6,\n",
    "]\n",
    "s_prefs = reshape(s_prefs, n+1, m)\n",
    "s_prefs = transpose(s_prefs)"
   ]
  },
  {
   "cell_type": "code",
   "execution_count": 27,
   "metadata": {
    "collapsed": false
   },
   "outputs": [
    {
     "data": {
      "text/plain": [
       "5×8 Array{Int64,2}:\n",
       " 1  2  3  4  5  6  7  0\n",
       " 5  2  0  1  3  4  6  7\n",
       " 6  7  3  0  1  2  4  5\n",
       " 7  4  0  1  2  3  5  6\n",
       " 2  1  0  3  4  5  6  7"
      ]
     },
     "execution_count": 27,
     "metadata": {},
     "output_type": "execute_result"
    }
   ],
   "source": [
    "c_prefs = [\n",
    "    1, 2, 3, 4, 5, 6, 7, 0,\n",
    "    5, 2, 0, 1, 3, 4, 6, 7,\n",
    "    6, 7, 3, 0, 1, 2, 4, 5,\n",
    "    7, 4, 0, 1, 2, 3, 5, 6,\n",
    "    2, 1, 0, 3, 4, 5, 6, 7,\n",
    "]\n",
    "c_prefs = reshape(c_prefs, m+1, n)\n",
    "c_prefs = transpose(c_prefs)"
   ]
  },
  {
   "cell_type": "code",
   "execution_count": 28,
   "metadata": {
    "collapsed": false
   },
   "outputs": [
    {
     "data": {
      "text/plain": [
       "5-element Array{Int64,1}:\n",
       " 3\n",
       " 1\n",
       " 1\n",
       " 1\n",
       " 1"
      ]
     },
     "execution_count": 28,
     "metadata": {},
     "output_type": "execute_result"
    }
   ],
   "source": [
    "caps = ones(Int, n)\n",
    "caps[1] = 3\n",
    "caps"
   ]
  },
  {
   "cell_type": "code",
   "execution_count": 29,
   "metadata": {
    "collapsed": false
   },
   "outputs": [
    {
     "data": {
      "text/plain": [
       "([5,2,3,4,1,1,1],[5,6,7,2,3,4,1])"
      ]
     },
     "execution_count": 29,
     "metadata": {},
     "output_type": "execute_result"
    }
   ],
   "source": [
    "my_deferred_acceptance(s_prefs, c_prefs, caps)"
   ]
  },
  {
   "cell_type": "code",
   "execution_count": 30,
   "metadata": {
    "collapsed": true
   },
   "outputs": [],
   "source": [
    "m, n = 11, 5;"
   ]
  },
  {
   "cell_type": "code",
   "execution_count": 37,
   "metadata": {
    "collapsed": false
   },
   "outputs": [
    {
     "data": {
      "text/plain": [
       "11×6 Array{Int64,2}:\n",
       " 3  1  5  4  0  2\n",
       " 1  3  4  2  5  0\n",
       " 4  5  3  1  2  0\n",
       " 3  4  1  5  0  2\n",
       " 1  4  2  0  3  5\n",
       " 4  3  2  1  5  0\n",
       " 2  5  1  3  0  4\n",
       " 1  3  2  5  4  0\n",
       " 4  1  5  0  2  3\n",
       " 3  1  5  2  4  0\n",
       " 5  4  1  3  2  0"
      ]
     },
     "execution_count": 37,
     "metadata": {},
     "output_type": "execute_result"
    }
   ],
   "source": [
    "s_prefs = [\n",
    "    3, 1, 5, 4, 0, 2,\n",
    "    1, 3, 4, 2, 5, 0,\n",
    "    4, 5, 3, 1, 2, 0,\n",
    "    3, 4, 1, 5, 0, 2,\n",
    "    1, 4, 2, 0, 3, 5,\n",
    "    4, 3, 2, 1, 5, 0,\n",
    "    2, 5, 1, 3, 0, 4,\n",
    "    1, 3, 2, 5, 4, 0,\n",
    "    4, 1, 5, 0, 2, 3,\n",
    "    3, 1, 5, 2, 4, 0,\n",
    "    5, 4, 1, 3, 2, 0,\n",
    "]\n",
    "s_prefs = reshape(s_prefs, n+1, m)\n",
    "s_prefs = transpose(s_prefs)"
   ]
  },
  {
   "cell_type": "code",
   "execution_count": 38,
   "metadata": {
    "collapsed": false
   },
   "outputs": [
    {
     "data": {
      "text/plain": [
       "5×12 Array{Int64,2}:\n",
       "  3  7   9  11  5  4  10   8   6  1  2  0\n",
       "  5  7  10   6  8  2   3  11   0  1  4  9\n",
       " 11  6   8   3  2  4   7   1  10  0  5  9\n",
       " 10  1   2  11  4  9   5   3   6  8  0  7\n",
       "  2  4  10   7  6  1   8   3  11  9  0  5"
      ]
     },
     "execution_count": 38,
     "metadata": {},
     "output_type": "execute_result"
    }
   ],
   "source": [
    "c_prefs = [\n",
    "    3, 7, 9, 11, 5, 4, 10, 8, 6, 1, 2, 0,\n",
    "    5, 7, 10, 6, 8, 2, 3, 11, 0, 1, 4, 9,\n",
    "    11, 6, 8, 3, 2, 4, 7, 1, 10, 0, 5, 9,\n",
    "    10, 1, 2, 11, 4, 9, 5, 3, 6, 8, 0, 7,\n",
    "    2, 4, 10, 7, 6, 1, 8, 3, 11, 9, 0, 5,\n",
    "]\n",
    "c_prefs = reshape(c_prefs, m+1, n)\n",
    "c_prefs = transpose(c_prefs)"
   ]
  },
  {
   "cell_type": "code",
   "execution_count": 39,
   "metadata": {
    "collapsed": true
   },
   "outputs": [],
   "source": [
    "caps = [4, 1, 3, 2, 1];"
   ]
  },
  {
   "cell_type": "code",
   "execution_count": 40,
   "metadata": {
    "collapsed": false
   },
   "outputs": [
    {
     "data": {
      "text/plain": [
       "([3,1,4,3,1,3,2,1,4,1,5],[2,5,8,10,7,1,4,6,3,9,11])"
      ]
     },
     "execution_count": 40,
     "metadata": {},
     "output_type": "execute_result"
    }
   ],
   "source": [
    "my_deferred_acceptance(s_prefs, c_prefs, caps)"
   ]
  },
  {
   "cell_type": "code",
   "execution_count": null,
   "metadata": {
    "collapsed": true
   },
   "outputs": [],
   "source": []
  }
 ],
 "metadata": {
  "kernelspec": {
   "display_name": "Julia 0.5.1",
   "language": "julia",
   "name": "julia-0.5"
  },
  "language_info": {
   "file_extension": ".jl",
   "mimetype": "application/julia",
   "name": "julia",
   "version": "0.5.1"
  }
 },
 "nbformat": 4,
 "nbformat_minor": 2
}

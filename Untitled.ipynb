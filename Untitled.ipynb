{
 "cells": [
  {
   "cell_type": "code",
   "execution_count": 1,
   "metadata": {
    "collapsed": false
   },
   "outputs": [
    {
     "name": "stderr",
     "output_type": "stream",
     "text": [
      "\u001b[1m\u001b[34mINFO: Checking out MyMatchingA master...\n",
      "\u001b[0m\u001b[1m\u001b[34mINFO: Pulling MyMatchingA latest master...\n",
      "\u001b[0m\u001b[1m\u001b[34mINFO: No packages to install, update or remove\n",
      "\u001b[0m"
     ]
    }
   ],
   "source": [
    "Pkg.checkout(\"MyMatchingA\")"
   ]
  },
  {
   "cell_type": "code",
   "execution_count": 2,
   "metadata": {
    "collapsed": false,
    "scrolled": false
   },
   "outputs": [
    {
     "name": "stderr",
     "output_type": "stream",
     "text": [
      "\u001b[1m\u001b[34mINFO: Testing MyMatchingA\n",
      "\u001b[0m"
     ]
    },
    {
     "name": "stdout",
     "output_type": "stream",
     "text": [
      "girls_rankings = (m + 1) * ones(Int,m,n) = [5 5 5; 5 5 5; 5 5 5; 5 5 5]\n",
      "\u001b[1m\u001b[37mone-to-one: Vector of Vectors: \u001b[0m\u001b[1m\u001b[31mError During Test\n",
      "\u001b[0m  Got an exception of type MethodError outside of a @test\n",
      "  MethodError: no method matching setindex!(::Int64, ::Int64, ::Int64)\n",
      "   in my_deferred_acceptance(::Array{Array{Int64,1},1}, ::Array{Array{Int64,1},1}) at /Users/sasakiakihiro/.julia/v0.5/MyMatchingA/src/MyMatchingA.jl:19\n",
      "   in macro expansion; at /Users/sasakiakihiro/.julia/v0.5/MyMatchingA/test/runtests.jl:102 [inlined]\n",
      "   in macro expansion; at ./test.jl:674 [inlined]\n",
      "   in macro expansion; at /Users/sasakiakihiro/.julia/v0.5/MyMatchingA/test/runtests.jl:96 [inlined]\n",
      "   in macro expansion; at ./test.jl:674 [inlined]\n",
      "   in anonymous at ./<missing>:?\n",
      "   in include_from_node1(::String) at ./loading.jl:488\n",
      "   in include_from_node1(::String) at /Applications/Julia-0.5.app/Contents/Resources/julia/lib/julia/sys.dylib:?\n",
      "   in process_options(::Base.JLOptions) at ./client.jl:265\n",
      "   in _start() at ./client.jl:321\n",
      "   in _start() at /Applications/Julia-0.5.app/Contents/Resources/julia/lib/julia/sys.dylib:?\n",
      "\u001b[1m\u001b[37mTest Summary:                   | \u001b[0m\u001b[1m\u001b[31mError  \u001b[0m\u001b[1m\u001b[34mTotal\u001b[0m\n",
      "  Testing deferred acceptance   | \u001b[1m\u001b[31m    1  \u001b[0m\u001b[1m\u001b[34m    1\u001b[0m\n",
      "  one-to-one: Vector of Vectors | \u001b[1m\u001b[31m    1  \u001b[0m\u001b[1m\u001b[34m    1\u001b[0m\n"
     ]
    },
    {
     "name": "stderr",
     "output_type": "stream",
     "text": [
      "\u001b[1m\u001b[31mERROR: LoadError: Some tests did not pass: 0 passed, 0 failed, 1 errored, 0 broken.\n",
      " in finish(::Base.Test.DefaultTestSet) at ./test.jl:498\n",
      " in macro expansion; at ./test.jl:681 [inlined]\n",
      " in anonymous at ./<missing>:?\n",
      " in include_from_node1(::String) at ./loading.jl:488\n",
      " in include_from_node1(::String) at /Applications/Julia-0.5.app/Contents/Resources/julia/lib/julia/sys.dylib:?\n",
      " in process_options(::Base.JLOptions) at ./client.jl:265\n",
      " in _start() at ./client.jl:321\n",
      " in _start() at /Applications/Julia-0.5.app/Contents/Resources/julia/lib/julia/sys.dylib:?\n",
      "while loading /Users/sasakiakihiro/.julia/v0.5/MyMatchingA/test/runtests.jl, in expression starting on line 10\n",
      "\u001b[0m\u001b[1m\u001b[31m=============================[ ERROR: MyMatchingA ]=============================\u001b[0m\n",
      "\n",
      "\u001b[1m\u001b[31mfailed process: Process(`/Applications/Julia-0.5.app/Contents/Resources/julia/bin/julia -Ccore2 -J/Applications/Julia-0.5.app/Contents/Resources/julia/lib/julia/sys.dylib --compile=yes --depwarn=yes --check-bounds=yes --code-coverage=none --color=yes --compilecache=yes /Users/sasakiakihiro/.julia/v0.5/MyMatchingA/test/runtests.jl`, ProcessExited(1)) [1]\u001b[0m\n",
      "\n",
      "\u001b[1m\u001b[31m================================================================================\u001b[0m\n"
     ]
    },
    {
     "ename": "LoadError",
     "evalue": "MyMatchingA had test errors",
     "output_type": "error",
     "traceback": [
      "MyMatchingA had test errors",
      "",
      " in #test#61(::Bool, ::Function, ::Array{AbstractString,1}) at ./pkg/entry.jl:749",
      " in (::Base.Pkg.Entry.#kw##test)(::Array{Any,1}, ::Base.Pkg.Entry.#test, ::Array{AbstractString,1}) at ./<missing>:0",
      " in (::Base.Pkg.Dir.##2#3{Array{Any,1},Base.Pkg.Entry.#test,Tuple{Array{AbstractString,1}}})() at ./pkg/dir.jl:31",
      " in cd(::Base.Pkg.Dir.##2#3{Array{Any,1},Base.Pkg.Entry.#test,Tuple{Array{AbstractString,1}}}, ::String) at ./file.jl:59",
      " in #cd#1(::Array{Any,1}, ::Function, ::Function, ::Array{AbstractString,1}, ::Vararg{Array{AbstractString,1},N}) at ./pkg/dir.jl:31",
      " in (::Base.Pkg.Dir.#kw##cd)(::Array{Any,1}, ::Base.Pkg.Dir.#cd, ::Function, ::Array{AbstractString,1}, ::Vararg{Array{AbstractString,1},N}) at ./<missing>:0",
      " in #test#3(::Bool, ::Function, ::String, ::Vararg{String,N}) at ./pkg/pkg.jl:258",
      " in test(::String, ::Vararg{String,N}) at ./pkg/pkg.jl:258"
     ]
    }
   ],
   "source": [
    "Pkg.test(\"MyMatchingA\")"
   ]
  },
  {
   "cell_type": "code",
   "execution_count": 5,
   "metadata": {
    "collapsed": false
   },
   "outputs": [
    {
     "name": "stderr",
     "output_type": "stream",
     "text": [
      "WARNING: using MyMatchingA.my_deferred_acceptance in module Main conflicts with an existing identifier.\n"
     ]
    }
   ],
   "source": [
    "using MyMatchingA"
   ]
  },
  {
   "cell_type": "code",
   "execution_count": 6,
   "metadata": {
    "collapsed": false
   },
   "outputs": [
    {
     "data": {
      "text/plain": [
       "my_deferred_acceptance (generic function with 1 method)"
      ]
     },
     "execution_count": 6,
     "metadata": {},
     "output_type": "execute_result"
    }
   ],
   "source": [
    "my_deferred_acceptance"
   ]
  },
  {
   "cell_type": "code",
   "execution_count": 7,
   "metadata": {
    "collapsed": false
   },
   "outputs": [
    {
     "data": {
      "text/plain": [
       "4-element Array{Array{Int64,1},1}:\n",
       " [4,3,2,1]\n",
       " [1,2,4,3]\n",
       " [3,1,2,4]\n",
       " [1,2,3,4]"
      ]
     },
     "execution_count": 7,
     "metadata": {},
     "output_type": "execute_result"
    }
   ],
   "source": [
    "boys_prefs = [[1,4,3,2],[1,3,2,4],[3,2,4,1],[2,1,4,3]]\n",
    "girls_prefs = [[4,3,2,1],[1,2,4,3],[3,1,2,4],[1,2,3,4]]"
   ]
  },
  {
   "cell_type": "code",
   "execution_count": 8,
   "metadata": {
    "collapsed": false
   },
   "outputs": [
    {
     "name": "stdout",
     "output_type": "stream",
     "text": [
      "girls_rankings = (m + 1) * ones(Int,m,n) = [5 5 5 5; 5 5 5 5; 5 5 5 5; 5 5 5 5]\n"
     ]
    },
    {
     "ename": "LoadError",
     "evalue": "MethodError: no method matching setindex!(::Int64, ::Int64, ::Int64)",
     "output_type": "error",
     "traceback": [
      "MethodError: no method matching setindex!(::Int64, ::Int64, ::Int64)",
      "",
      " in my_deferred_acceptance(::Array{Array{Int64,1},1}, ::Array{Array{Int64,1},1}) at /Users/sasakiakihiro/.julia/v0.5/MyMatchingA/src/MyMatchingA.jl:19"
     ]
    }
   ],
   "source": [
    "my_deferred_acceptance(boys_prefs, girls_prefs)"
   ]
  },
  {
   "cell_type": "code",
   "execution_count": 11,
   "metadata": {
    "collapsed": false
   },
   "outputs": [
    {
     "name": "stderr",
     "output_type": "stream",
     "text": [
      "WARNING: Method definition mat2vecs(Array{#T<:Integer, 2}) in module Main at In[9]:2 overwritten at In[11]:2.\n"
     ]
    },
    {
     "data": {
      "text/plain": [
       "mat2vecs (generic function with 1 method)"
      ]
     },
     "execution_count": 11,
     "metadata": {},
     "output_type": "execute_result"
    }
   ],
   "source": [
    "function mat2vecs{T<:Integer}(prefs::Matrix{T})\n",
    "    return [prefs[1:findfirst(prefs[:, j], 0)-1, j] for j in 1:size(prefs, 2)]\n",
    "end"
   ]
  },
  {
   "cell_type": "code",
   "execution_count": 12,
   "metadata": {
    "collapsed": false
   },
   "outputs": [
    {
     "data": {
      "text/plain": [
       "4×4 Array{Int64,2}:\n",
       " 1  3  2  3\n",
       " 2  1  3  1\n",
       " 3  2  1  2\n",
       " 0  0  0  0"
      ]
     },
     "execution_count": 12,
     "metadata": {},
     "output_type": "execute_result"
    }
   ],
   "source": [
    "    m_prefs = [1 3 2 3;\n",
    "               2 1 3 1;\n",
    "               3 2 1 2;\n",
    "               0 0 0 0]"
   ]
  },
  {
   "cell_type": "code",
   "execution_count": 13,
   "metadata": {
    "collapsed": false
   },
   "outputs": [
    {
     "data": {
      "text/plain": [
       "4-element Array{Array{Int64,1},1}:\n",
       " [1,2,3]\n",
       " [3,1,2]\n",
       " [2,3,1]\n",
       " [3,1,2]"
      ]
     },
     "execution_count": 13,
     "metadata": {},
     "output_type": "execute_result"
    }
   ],
   "source": [
    "boys_prefs = mat2vecs(m_prefs)"
   ]
  },
  {
   "cell_type": "code",
   "execution_count": 14,
   "metadata": {
    "collapsed": false
   },
   "outputs": [
    {
     "data": {
      "text/plain": [
       "5×3 Array{Int64,2}:\n",
       " 3  1  3\n",
       " 1  2  0\n",
       " 2  3  2\n",
       " 4  4  1\n",
       " 0  0  4"
      ]
     },
     "execution_count": 14,
     "metadata": {},
     "output_type": "execute_result"
    }
   ],
   "source": [
    "f_prefs = [3 1 3;\n",
    "               1 2 0;\n",
    "               2 3 2;\n",
    "               4 4 1;\n",
    "               0 0 4]"
   ]
  },
  {
   "cell_type": "code",
   "execution_count": 15,
   "metadata": {
    "collapsed": false
   },
   "outputs": [
    {
     "data": {
      "text/plain": [
       "3-element Array{Array{Int64,1},1}:\n",
       " [3,1,2,4]\n",
       " [1,2,3,4]\n",
       " [3]      "
      ]
     },
     "execution_count": 15,
     "metadata": {},
     "output_type": "execute_result"
    }
   ],
   "source": [
    "girls_prefs = mat2vecs(f_prefs)"
   ]
  },
  {
   "cell_type": "code",
   "execution_count": 16,
   "metadata": {
    "collapsed": false
   },
   "outputs": [
    {
     "name": "stdout",
     "output_type": "stream",
     "text": [
      "girls_rankings = (m + 1) * ones(Int,m,n) = [5 5 5; 5 5 5; 5 5 5; 5 5 5]\n"
     ]
    },
    {
     "ename": "LoadError",
     "evalue": "MethodError: no method matching setindex!(::Int64, ::Int64, ::Int64)",
     "output_type": "error",
     "traceback": [
      "MethodError: no method matching setindex!(::Int64, ::Int64, ::Int64)",
      "",
      " in my_deferred_acceptance(::Array{Array{Int64,1},1}, ::Array{Array{Int64,1},1}) at /Users/sasakiakihiro/.julia/v0.5/MyMatchingA/src/MyMatchingA.jl:19"
     ]
    }
   ],
   "source": [
    "my_deferred_acceptance(boys_prefs, girls_prefs)"
   ]
  },
  {
   "cell_type": "code",
   "execution_count": 5,
   "metadata": {
    "collapsed": false
   },
   "outputs": [
    {
     "data": {
      "text/plain": [
       "MyMatchingA"
      ]
     },
     "execution_count": 5,
     "metadata": {},
     "output_type": "execute_result"
    }
   ],
   "source": [
    "module MyMatchingA\n",
    "export my_deferred_acceptance\n",
    "\n",
    "function my_deferred_acceptance(boys_prefs, girls_prefs)\n",
    "    m = size(boys_prefs, 1)\n",
    "    n = size(girls_prefs, 1)\n",
    "    #その男性が婚約している女性(リストが尽きた独身=0,リストが尽きてない独身=-1)\n",
    "    #boys_partners[1] = 2; 男性1は女性2と婚約している．\n",
    "    boys_partners = fill(-1, m)\n",
    "    \n",
    "    boys_next_to_propose = ones(Int, m)\n",
    "    \n",
    "    girls_partners = zeros(Int, n)\n",
    "    \n",
    "    @show girls_rankings = Array{Int}(m,n)\n",
    "    for j in 1:n\n",
    "        for i in 1:length(girls_prefs[j])\n",
    "            girls_rankings[girls_prefs[j][i], j] = i\n",
    "        end\n",
    "    end\n",
    "    \n",
    "    \n",
    "    while true\n",
    "        @show i = get_single(boys_partners)\n",
    "        if i == 0\n",
    "            break\n",
    "        end\n",
    "        if boys_next_to_propose[i] > length(boys_prefs[i])\n",
    "            boys_partners[i] = 0\n",
    "            continue\n",
    "        end\n",
    "\n",
    "        #男性iが好きな女性jを探す．\n",
    "        j = boys_prefs[i][boys_next_to_propose[i]]\n",
    "\n",
    "        #女性jが婚約している相手pを探す．\n",
    "        p = girls_partners[j]\n",
    "\n",
    "        #女性jが独身なら婚約する．\n",
    "        if p == 0\n",
    "            girls_partners[j] = i\n",
    "            boys_partners[i] = j\n",
    "\n",
    "        #女性jが婚約している場合\n",
    "        else\n",
    "        #女性jがiの方が好きなら，婚約する．\n",
    "            if girls_rankings[i][j] < girls_rankings[p][j]\n",
    "                girls_partners[j] = i\n",
    "                boys_partners[i] = j\n",
    "                boys_partners[p] = -1\n",
    "\n",
    "            end\n",
    "        end\n",
    "        @show boys_next_to_propose[i] += 1\n",
    "    end\n",
    "    \n",
    "    return boys_partners, girls_partners    \n",
    "end\n",
    "\n",
    "#独身の男性を返す．(存在しなければ0)\n",
    "function get_single(partners)\n",
    "    m = size(partners, 1)\n",
    "    for i in 1:m\n",
    "        if partners[i] == -1\n",
    "          return i\n",
    "        end\n",
    "    end\n",
    "       \n",
    "    return 0\n",
    "end\n",
    "\n",
    "\n",
    "end\n",
    "\n"
   ]
  },
  {
   "cell_type": "code",
   "execution_count": 4,
   "metadata": {
    "collapsed": false
   },
   "outputs": [
    {
     "ename": "LoadError",
     "evalue": "UndefVarError: boys_prefs not defined",
     "output_type": "error",
     "traceback": [
      "UndefVarError: boys_prefs not defined",
      ""
     ]
    }
   ],
   "source": [
    "my_deferred_acceptance(boys_prefs, girls_prefs)"
   ]
  },
  {
   "cell_type": "code",
   "execution_count": 3,
   "metadata": {
    "collapsed": false
   },
   "outputs": [
    {
     "ename": "LoadError",
     "evalue": "UndefVarError: girls_rankings not defined",
     "output_type": "error",
     "traceback": [
      "UndefVarError: girls_rankings not defined",
      ""
     ]
    }
   ],
   "source": [
    "girls_rankings"
   ]
  },
  {
   "cell_type": "code",
   "execution_count": null,
   "metadata": {
    "collapsed": true
   },
   "outputs": [],
   "source": []
  }
 ],
 "metadata": {
  "kernelspec": {
   "display_name": "Julia 0.5.1",
   "language": "julia",
   "name": "julia-0.5"
  },
  "language_info": {
   "file_extension": ".jl",
   "mimetype": "application/julia",
   "name": "julia",
   "version": "0.5.1"
  }
 },
 "nbformat": 4,
 "nbformat_minor": 2
}
